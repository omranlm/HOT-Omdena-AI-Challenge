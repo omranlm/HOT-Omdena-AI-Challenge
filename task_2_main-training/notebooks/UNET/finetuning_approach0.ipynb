{
  "nbformat": 4,
  "nbformat_minor": 0,
  "metadata": {
    "colab": {
      "provenance": [],
      "collapsed_sections": [],
      "toc_visible": true
    },
    "kernelspec": {
      "name": "python3",
      "display_name": "Python 3"
    },
    "language_info": {
      "name": "python"
    },
    "accelerator": "GPU",
    "gpuClass": "standard"
  },
  "cells": [
    {
      "cell_type": "markdown",
      "source": [
        "# Setup"
      ],
      "metadata": {
        "id": "Qfu-DAeTtO5D"
      }
    },
    {
      "cell_type": "code",
      "execution_count": 1,
      "metadata": {
        "colab": {
          "base_uri": "https://localhost:8080/"
        },
        "id": "6EitQcGJs9Sa",
        "outputId": "849966ac-5900-4d42-b1f5-ce9b8b1efa99"
      },
      "outputs": [
        {
          "output_type": "stream",
          "name": "stdout",
          "text": [
            "Looking in indexes: https://pypi.org/simple, https://us-python.pkg.dev/colab-wheels/public/simple/\n",
            "Requirement already satisfied: segmentation_models in /usr/local/lib/python3.7/dist-packages (1.0.1)\n",
            "Requirement already satisfied: image-classifiers==1.0.0 in /usr/local/lib/python3.7/dist-packages (from segmentation_models) (1.0.0)\n",
            "Requirement already satisfied: keras-applications<=1.0.8,>=1.0.7 in /usr/local/lib/python3.7/dist-packages (from segmentation_models) (1.0.8)\n",
            "Requirement already satisfied: efficientnet==1.0.0 in /usr/local/lib/python3.7/dist-packages (from segmentation_models) (1.0.0)\n",
            "Requirement already satisfied: scikit-image in /usr/local/lib/python3.7/dist-packages (from efficientnet==1.0.0->segmentation_models) (0.18.3)\n",
            "Requirement already satisfied: h5py in /usr/local/lib/python3.7/dist-packages (from keras-applications<=1.0.8,>=1.0.7->segmentation_models) (3.1.0)\n",
            "Requirement already satisfied: numpy>=1.9.1 in /usr/local/lib/python3.7/dist-packages (from keras-applications<=1.0.8,>=1.0.7->segmentation_models) (1.21.6)\n",
            "Requirement already satisfied: cached-property in /usr/local/lib/python3.7/dist-packages (from h5py->keras-applications<=1.0.8,>=1.0.7->segmentation_models) (1.5.2)\n",
            "Requirement already satisfied: PyWavelets>=1.1.1 in /usr/local/lib/python3.7/dist-packages (from scikit-image->efficientnet==1.0.0->segmentation_models) (1.3.0)\n",
            "Requirement already satisfied: tifffile>=2019.7.26 in /usr/local/lib/python3.7/dist-packages (from scikit-image->efficientnet==1.0.0->segmentation_models) (2021.11.2)\n",
            "Requirement already satisfied: scipy>=1.0.1 in /usr/local/lib/python3.7/dist-packages (from scikit-image->efficientnet==1.0.0->segmentation_models) (1.7.3)\n",
            "Requirement already satisfied: imageio>=2.3.0 in /usr/local/lib/python3.7/dist-packages (from scikit-image->efficientnet==1.0.0->segmentation_models) (2.9.0)\n",
            "Requirement already satisfied: pillow!=7.1.0,!=7.1.1,>=4.3.0 in /usr/local/lib/python3.7/dist-packages (from scikit-image->efficientnet==1.0.0->segmentation_models) (7.1.2)\n",
            "Requirement already satisfied: networkx>=2.0 in /usr/local/lib/python3.7/dist-packages (from scikit-image->efficientnet==1.0.0->segmentation_models) (2.6.3)\n",
            "Requirement already satisfied: matplotlib!=3.0.0,>=2.0.0 in /usr/local/lib/python3.7/dist-packages (from scikit-image->efficientnet==1.0.0->segmentation_models) (3.2.2)\n",
            "Requirement already satisfied: kiwisolver>=1.0.1 in /usr/local/lib/python3.7/dist-packages (from matplotlib!=3.0.0,>=2.0.0->scikit-image->efficientnet==1.0.0->segmentation_models) (1.4.4)\n",
            "Requirement already satisfied: pyparsing!=2.0.4,!=2.1.2,!=2.1.6,>=2.0.1 in /usr/local/lib/python3.7/dist-packages (from matplotlib!=3.0.0,>=2.0.0->scikit-image->efficientnet==1.0.0->segmentation_models) (3.0.9)\n",
            "Requirement already satisfied: cycler>=0.10 in /usr/local/lib/python3.7/dist-packages (from matplotlib!=3.0.0,>=2.0.0->scikit-image->efficientnet==1.0.0->segmentation_models) (0.11.0)\n",
            "Requirement already satisfied: python-dateutil>=2.1 in /usr/local/lib/python3.7/dist-packages (from matplotlib!=3.0.0,>=2.0.0->scikit-image->efficientnet==1.0.0->segmentation_models) (2.8.2)\n",
            "Requirement already satisfied: typing-extensions in /usr/local/lib/python3.7/dist-packages (from kiwisolver>=1.0.1->matplotlib!=3.0.0,>=2.0.0->scikit-image->efficientnet==1.0.0->segmentation_models) (4.1.1)\n",
            "Requirement already satisfied: six>=1.5 in /usr/local/lib/python3.7/dist-packages (from python-dateutil>=2.1->matplotlib!=3.0.0,>=2.0.0->scikit-image->efficientnet==1.0.0->segmentation_models) (1.15.0)\n"
          ]
        }
      ],
      "source": [
        "!pip install segmentation_models"
      ]
    },
    {
      "cell_type": "code",
      "source": [
        "from google.colab import drive\n",
        "\n",
        "drive.mount(\"/content/gdrive\", force_remount=True)"
      ],
      "metadata": {
        "colab": {
          "base_uri": "https://localhost:8080/"
        },
        "id": "Dfs4RMkCtTjU",
        "outputId": "fc437759-fb9e-45f4-a081-26e14e7ef216"
      },
      "execution_count": 2,
      "outputs": [
        {
          "output_type": "stream",
          "name": "stdout",
          "text": [
            "Mounted at /content/gdrive\n"
          ]
        }
      ]
    },
    {
      "cell_type": "code",
      "source": [
        "import tensorflow as tf\n",
        "device_name = tf.test.gpu_device_name()\n",
        "if device_name != '/device:GPU:0':\n",
        "  raise SystemError('GPU device not found')\n",
        "print('Found GPU at: {}'.format(device_name))"
      ],
      "metadata": {
        "colab": {
          "base_uri": "https://localhost:8080/"
        },
        "id": "ldUDcvzmtZJn",
        "outputId": "abe302ce-354c-4d53-9ff7-e2eb14a9336e"
      },
      "execution_count": 3,
      "outputs": [
        {
          "output_type": "stream",
          "name": "stdout",
          "text": [
            "Found GPU at: /device:GPU:0\n"
          ]
        }
      ]
    },
    {
      "cell_type": "code",
      "source": [
        "import os\n",
        "import numpy as np\n",
        "\n",
        "from keras.models import Sequential, model_from_json\n",
        "import keras.backend as K\n",
        "from tensorflow.keras.preprocessing.image import load_img\n",
        "\n",
        "\n",
        "import matplotlib.pyplot as plt"
      ],
      "metadata": {
        "id": "gJllt41_tk8G"
      },
      "execution_count": 4,
      "outputs": []
    },
    {
      "cell_type": "code",
      "source": [
        "import shutil\n",
        "import keras"
      ],
      "metadata": {
        "id": "Bmd9rsOpuDGO"
      },
      "execution_count": 5,
      "outputs": []
    },
    {
      "cell_type": "code",
      "source": [
        "from tensorflow.keras.preprocessing.image import ImageDataGenerator"
      ],
      "metadata": {
        "id": "18D3m0XHuF4X"
      },
      "execution_count": 6,
      "outputs": []
    },
    {
      "cell_type": "code",
      "source": [
        "from tensorflow.compat.v1 import ConfigProto\n",
        "from tensorflow.compat.v1 import InteractiveSession\n",
        "\n",
        "config = ConfigProto()\n",
        "config.gpu_options.allow_growth = True\n",
        "session = InteractiveSession(config=config)"
      ],
      "metadata": {
        "id": "-N83xZpduHXg"
      },
      "execution_count": 7,
      "outputs": []
    },
    {
      "cell_type": "markdown",
      "source": [
        "# Load Model"
      ],
      "metadata": {
        "id": "mxBa3b9ouKjw"
      }
    },
    {
      "cell_type": "code",
      "source": [
        "import segmentation_models as sm\n",
        "sm.set_framework('tf.keras')\n",
        "BACKBONE = 'resnet34'\n",
        "preprocess_input = sm.get_preprocessing(BACKBONE)"
      ],
      "metadata": {
        "colab": {
          "base_uri": "https://localhost:8080/"
        },
        "id": "bUspS-blzwuU",
        "outputId": "da8f0667-aa1a-49a9-e8c8-66ffa4116196"
      },
      "execution_count": 8,
      "outputs": [
        {
          "output_type": "stream",
          "name": "stdout",
          "text": [
            "Segmentation Models: using `keras` framework.\n"
          ]
        }
      ]
    },
    {
      "cell_type": "code",
      "source": [
        "path_to_load_json = '/content/gdrive/MyDrive/Omdena/OpenCities/unet_baseline/model_unet.json'\n",
        "path_to_load_model = '/content/gdrive/MyDrive/Omdena/OpenCities/unet_baseline/model_unet.h5'"
      ],
      "metadata": {
        "id": "kzwsrzcVuLhl"
      },
      "execution_count": 9,
      "outputs": []
    },
    {
      "cell_type": "code",
      "source": [
        "# load json and create model\n",
        "json_file = open(path_to_load_json, 'r')\n",
        "loaded_model_json = json_file.read()\n",
        "json_file.close()\n",
        "model = model_from_json(loaded_model_json)\n",
        "# load weights into new model\n",
        "model.load_weights(path_to_load_model)\n",
        "print(\"Loaded model from disk\")"
      ],
      "metadata": {
        "colab": {
          "base_uri": "https://localhost:8080/"
        },
        "id": "sXqLLKgtuNFY",
        "outputId": "d24d83e2-f252-4fd8-a684-9f39734a7f13"
      },
      "execution_count": 10,
      "outputs": [
        {
          "output_type": "stream",
          "name": "stdout",
          "text": [
            "Loaded model from disk\n"
          ]
        }
      ]
    },
    {
      "cell_type": "code",
      "source": [
        "num_layers = len(model.layers)\n",
        "to_freeze = int(0.6*num_layers)"
      ],
      "metadata": {
        "id": "XJpX1ROouQZo"
      },
      "execution_count": 11,
      "outputs": []
    },
    {
      "cell_type": "code",
      "source": [
        "for i in range(to_freeze): \n",
        "  model.layers[i].trainable  = False \n",
        "\n",
        "for layer in model.layers:\n",
        "  print(layer.trainable) "
      ],
      "metadata": {
        "colab": {
          "base_uri": "https://localhost:8080/"
        },
        "id": "Bk92PLZhuSPt",
        "outputId": "cf8486ff-f49e-45ba-87c6-7716775ed43d"
      },
      "execution_count": 12,
      "outputs": [
        {
          "output_type": "stream",
          "name": "stdout",
          "text": [
            "False\n",
            "False\n",
            "False\n",
            "False\n",
            "False\n",
            "False\n",
            "False\n",
            "False\n",
            "False\n",
            "False\n",
            "False\n",
            "False\n",
            "False\n",
            "False\n",
            "False\n",
            "False\n",
            "False\n",
            "False\n",
            "False\n",
            "False\n",
            "False\n",
            "False\n",
            "False\n",
            "False\n",
            "False\n",
            "False\n",
            "False\n",
            "False\n",
            "False\n",
            "False\n",
            "False\n",
            "False\n",
            "False\n",
            "False\n",
            "False\n",
            "False\n",
            "False\n",
            "False\n",
            "False\n",
            "False\n",
            "False\n",
            "False\n",
            "False\n",
            "False\n",
            "False\n",
            "False\n",
            "False\n",
            "False\n",
            "False\n",
            "False\n",
            "False\n",
            "False\n",
            "False\n",
            "False\n",
            "False\n",
            "False\n",
            "False\n",
            "False\n",
            "False\n",
            "False\n",
            "False\n",
            "False\n",
            "False\n",
            "False\n",
            "False\n",
            "False\n",
            "False\n",
            "False\n",
            "False\n",
            "False\n",
            "False\n",
            "False\n",
            "False\n",
            "False\n",
            "False\n",
            "False\n",
            "False\n",
            "False\n",
            "False\n",
            "False\n",
            "False\n",
            "False\n",
            "False\n",
            "False\n",
            "False\n",
            "False\n",
            "False\n",
            "False\n",
            "False\n",
            "False\n",
            "False\n",
            "False\n",
            "False\n",
            "False\n",
            "False\n",
            "False\n",
            "False\n",
            "False\n",
            "False\n",
            "False\n",
            "False\n",
            "False\n",
            "False\n",
            "False\n",
            "False\n",
            "False\n",
            "False\n",
            "False\n",
            "False\n",
            "False\n",
            "False\n",
            "False\n",
            "False\n",
            "False\n",
            "False\n",
            "False\n",
            "False\n",
            "False\n",
            "False\n",
            "True\n",
            "True\n",
            "True\n",
            "True\n",
            "True\n",
            "True\n",
            "True\n",
            "True\n",
            "True\n",
            "True\n",
            "True\n",
            "True\n",
            "True\n",
            "True\n",
            "True\n",
            "True\n",
            "True\n",
            "True\n",
            "True\n",
            "True\n",
            "True\n",
            "True\n",
            "True\n",
            "True\n",
            "True\n",
            "True\n",
            "True\n",
            "True\n",
            "True\n",
            "True\n",
            "True\n",
            "True\n",
            "True\n",
            "True\n",
            "True\n",
            "True\n",
            "True\n",
            "True\n",
            "True\n",
            "True\n",
            "True\n",
            "True\n",
            "True\n",
            "True\n",
            "True\n",
            "True\n",
            "True\n",
            "True\n",
            "True\n",
            "True\n",
            "True\n",
            "True\n",
            "True\n",
            "True\n",
            "True\n",
            "True\n",
            "True\n",
            "True\n",
            "True\n",
            "True\n",
            "True\n",
            "True\n",
            "True\n",
            "True\n",
            "True\n",
            "True\n",
            "True\n",
            "True\n",
            "True\n",
            "True\n",
            "True\n",
            "True\n",
            "True\n",
            "True\n",
            "True\n",
            "True\n",
            "True\n",
            "True\n",
            "True\n",
            "True\n"
          ]
        }
      ]
    },
    {
      "cell_type": "markdown",
      "source": [
        "# Load Data"
      ],
      "metadata": {
        "id": "QmPfPvomuYUR"
      }
    },
    {
      "cell_type": "code",
      "source": [
        "IMAGE_SIZE = 256\n",
        "\n",
        "def open_images(paths, is_mask=False):\n",
        "    images = []\n",
        "    for path in paths:\n",
        "        image = load_img(path, target_size=(IMAGE_SIZE, IMAGE_SIZE))\n",
        "        if is_mask:\n",
        "          image = np.mean(image, axis=-1)/255.0\n",
        "        else:\n",
        "          image = np.array(image)/255.0\n",
        "        images.append(image)\n",
        "    return np.array(images)"
      ],
      "metadata": {
        "id": "YlX6vtBjuXKX"
      },
      "execution_count": 13,
      "outputs": []
    },
    {
      "cell_type": "code",
      "source": [
        "def get_image_paths(path, images=True) -> list:\n",
        "    \"\"\"Returns a list of image or masks paths from a folder\"\"\"\n",
        "    paths = [path + fname for fname in os.listdir(path)]\n",
        "    to_return = []\n",
        "    if images:\n",
        "        png_images = []\n",
        "        for image in paths:\n",
        "            if image.endswith(\".tif\"):\n",
        "                png_images.append(image)\n",
        "        to_return = png_images\n",
        "    else:\n",
        "        to_return = paths\n",
        "    return sorted(to_return)"
      ],
      "metadata": {
        "id": "gTxckAGNuhrd"
      },
      "execution_count": 14,
      "outputs": []
    },
    {
      "cell_type": "code",
      "source": [
        "images_1 = \"/content/gdrive/MyDrive/Omdena/data/images_v2/3/\"\n",
        "image_paths = get_image_paths(images_1)\n",
        "masks_1 = \"/content/gdrive/MyDrive/Omdena/data/masks_v2/3/\"\n",
        "masks_paths = get_image_paths(masks_1)"
      ],
      "metadata": {
        "id": "tohdJPBRuiaL"
      },
      "execution_count": 15,
      "outputs": []
    },
    {
      "cell_type": "code",
      "source": [
        "image_paths[:5]"
      ],
      "metadata": {
        "colab": {
          "base_uri": "https://localhost:8080/"
        },
        "id": "2TTJbXUNvdUh",
        "outputId": "01e95c4b-914a-4418-c7de-546151dba852"
      },
      "execution_count": 16,
      "outputs": [
        {
          "output_type": "execute_result",
          "data": {
            "text/plain": [
              "['/content/gdrive/MyDrive/Omdena/data/images_v2/2/OAM-1238424-1046544-21.tif',\n",
              " '/content/gdrive/MyDrive/Omdena/data/images_v2/2/OAM-1238424-1046545-21.tif',\n",
              " '/content/gdrive/MyDrive/Omdena/data/images_v2/2/OAM-1238424-1046546-21.tif',\n",
              " '/content/gdrive/MyDrive/Omdena/data/images_v2/2/OAM-1238424-1046547-21.tif',\n",
              " '/content/gdrive/MyDrive/Omdena/data/images_v2/2/OAM-1238425-1046544-21.tif']"
            ]
          },
          "metadata": {},
          "execution_count": 16
        }
      ]
    },
    {
      "cell_type": "code",
      "source": [
        "masks_paths[:5]"
      ],
      "metadata": {
        "colab": {
          "base_uri": "https://localhost:8080/"
        },
        "id": "WbqSFjHrvfJS",
        "outputId": "b3334ae5-8d39-47af-f21a-86d32b945df9"
      },
      "execution_count": 17,
      "outputs": [
        {
          "output_type": "execute_result",
          "data": {
            "text/plain": [
              "['/content/gdrive/MyDrive/Omdena/data/masks_v2/2/OAM-1238424-1046544-21.tif',\n",
              " '/content/gdrive/MyDrive/Omdena/data/masks_v2/2/OAM-1238424-1046545-21.tif',\n",
              " '/content/gdrive/MyDrive/Omdena/data/masks_v2/2/OAM-1238424-1046546-21.tif',\n",
              " '/content/gdrive/MyDrive/Omdena/data/masks_v2/2/OAM-1238424-1046547-21.tif',\n",
              " '/content/gdrive/MyDrive/Omdena/data/masks_v2/2/OAM-1238425-1046544-21.tif']"
            ]
          },
          "metadata": {},
          "execution_count": 17
        }
      ]
    },
    {
      "cell_type": "code",
      "source": [
        "all_images = open_images(image_paths, is_mask=False)\n",
        "all_masks = open_images(masks_paths, is_mask=True)"
      ],
      "metadata": {
        "id": "XxTcENx1v1At"
      },
      "execution_count": 18,
      "outputs": []
    },
    {
      "cell_type": "code",
      "source": [
        "from sklearn.model_selection import train_test_split\n",
        "\n",
        "X_train, X_test, y_train, y_test = train_test_split(\n",
        "    all_images,\n",
        "    all_masks,\n",
        "    test_size=0.25,\n",
        "    random_state=0,\n",
        ")"
      ],
      "metadata": {
        "id": "jhLe5P1OzZBr"
      },
      "execution_count": 19,
      "outputs": []
    },
    {
      "cell_type": "code",
      "source": [
        "import gc \n",
        "del all_images \n",
        "del all_masks \n",
        "gc.collect()"
      ],
      "metadata": {
        "colab": {
          "base_uri": "https://localhost:8080/"
        },
        "id": "7wDEsfDHzf9Y",
        "outputId": "e5af33e1-d099-4fe3-e7b7-a31e47f8d1aa"
      },
      "execution_count": 20,
      "outputs": [
        {
          "output_type": "execute_result",
          "data": {
            "text/plain": [
              "385"
            ]
          },
          "metadata": {},
          "execution_count": 20
        }
      ]
    },
    {
      "cell_type": "code",
      "source": [
        "X_train = preprocess_input(X_train)\n",
        "X_test = preprocess_input(X_test)"
      ],
      "metadata": {
        "id": "dR0IIaXazzhw"
      },
      "execution_count": 21,
      "outputs": []
    },
    {
      "cell_type": "code",
      "source": [
        "model.compile(keras.optimizers.Adam(learning_rate=1e-4),\n",
        "    loss=sm.losses.dice_loss,\n",
        "    metrics=[sm.metrics.iou_score])"
      ],
      "metadata": {
        "id": "Q3xuD_ZT0Cyt"
      },
      "execution_count": 22,
      "outputs": []
    },
    {
      "cell_type": "code",
      "source": [
        "history = model.fit(\n",
        "    X_train, y_train, validation_data=[X_test, y_test], batch_size=16, epochs=30\n",
        ")"
      ],
      "metadata": {
        "colab": {
          "base_uri": "https://localhost:8080/"
        },
        "id": "4DWyfWGpz6yz",
        "outputId": "4c65e369-90b2-4261-807e-4a39de38fa0e"
      },
      "execution_count": 23,
      "outputs": [
        {
          "output_type": "stream",
          "name": "stdout",
          "text": [
            "Epoch 1/30\n",
            "7/7 [==============================] - 16s 1s/step - loss: 0.2453 - iou_score: 0.6075 - val_loss: 0.1923 - val_iou_score: 0.6629\n",
            "Epoch 2/30\n",
            "7/7 [==============================] - 1s 207ms/step - loss: 0.2256 - iou_score: 0.6330 - val_loss: 0.1884 - val_iou_score: 0.6689\n",
            "Epoch 3/30\n",
            "7/7 [==============================] - 1s 207ms/step - loss: 0.2225 - iou_score: 0.6380 - val_loss: 0.1859 - val_iou_score: 0.6730\n",
            "Epoch 4/30\n",
            "7/7 [==============================] - 2s 230ms/step - loss: 0.2127 - iou_score: 0.6509 - val_loss: 0.1833 - val_iou_score: 0.6761\n",
            "Epoch 5/30\n",
            "7/7 [==============================] - 2s 230ms/step - loss: 0.2051 - iou_score: 0.6611 - val_loss: 0.1802 - val_iou_score: 0.6796\n",
            "Epoch 6/30\n",
            "7/7 [==============================] - 2s 230ms/step - loss: 0.1945 - iou_score: 0.6768 - val_loss: 0.1767 - val_iou_score: 0.6836\n",
            "Epoch 7/30\n",
            "7/7 [==============================] - 1s 208ms/step - loss: 0.1981 - iou_score: 0.6711 - val_loss: 0.1737 - val_iou_score: 0.6873\n",
            "Epoch 8/30\n",
            "7/7 [==============================] - 2s 231ms/step - loss: 0.1973 - iou_score: 0.6738 - val_loss: 0.1703 - val_iou_score: 0.6919\n",
            "Epoch 9/30\n",
            "7/7 [==============================] - 1s 210ms/step - loss: 0.1825 - iou_score: 0.6918 - val_loss: 0.1679 - val_iou_score: 0.6951\n",
            "Epoch 10/30\n",
            "7/7 [==============================] - 2s 230ms/step - loss: 0.1825 - iou_score: 0.6950 - val_loss: 0.1662 - val_iou_score: 0.6977\n",
            "Epoch 11/30\n",
            "7/7 [==============================] - 2s 232ms/step - loss: 0.1741 - iou_score: 0.7054 - val_loss: 0.1644 - val_iou_score: 0.7009\n",
            "Epoch 12/30\n",
            "7/7 [==============================] - 1s 210ms/step - loss: 0.1748 - iou_score: 0.7044 - val_loss: 0.1630 - val_iou_score: 0.7035\n",
            "Epoch 13/30\n",
            "7/7 [==============================] - 2s 232ms/step - loss: 0.1726 - iou_score: 0.7083 - val_loss: 0.1613 - val_iou_score: 0.7077\n",
            "Epoch 14/30\n",
            "7/7 [==============================] - 2s 233ms/step - loss: 0.1678 - iou_score: 0.7130 - val_loss: 0.1590 - val_iou_score: 0.7136\n",
            "Epoch 15/30\n",
            "7/7 [==============================] - 1s 212ms/step - loss: 0.1650 - iou_score: 0.7173 - val_loss: 0.1575 - val_iou_score: 0.7179\n",
            "Epoch 16/30\n",
            "7/7 [==============================] - 2s 232ms/step - loss: 0.1601 - iou_score: 0.7249 - val_loss: 0.1576 - val_iou_score: 0.7171\n",
            "Epoch 17/30\n",
            "7/7 [==============================] - 2s 231ms/step - loss: 0.1561 - iou_score: 0.7312 - val_loss: 0.1571 - val_iou_score: 0.7171\n",
            "Epoch 18/30\n",
            "7/7 [==============================] - 2s 233ms/step - loss: 0.1581 - iou_score: 0.7288 - val_loss: 0.1556 - val_iou_score: 0.7226\n",
            "Epoch 19/30\n",
            "7/7 [==============================] - 1s 213ms/step - loss: 0.1486 - iou_score: 0.7418 - val_loss: 0.1545 - val_iou_score: 0.7274\n",
            "Epoch 20/30\n",
            "7/7 [==============================] - 1s 213ms/step - loss: 0.1459 - iou_score: 0.7463 - val_loss: 0.1534 - val_iou_score: 0.7300\n",
            "Epoch 21/30\n",
            "7/7 [==============================] - 2s 233ms/step - loss: 0.1327 - iou_score: 0.7656 - val_loss: 0.1524 - val_iou_score: 0.7324\n",
            "Epoch 22/30\n",
            "7/7 [==============================] - 2s 235ms/step - loss: 0.1323 - iou_score: 0.7669 - val_loss: 0.1513 - val_iou_score: 0.7350\n",
            "Epoch 23/30\n",
            "7/7 [==============================] - 1s 217ms/step - loss: 0.1372 - iou_score: 0.7600 - val_loss: 0.1526 - val_iou_score: 0.7351\n",
            "Epoch 24/30\n",
            "7/7 [==============================] - 2s 221ms/step - loss: 0.1298 - iou_score: 0.7709 - val_loss: 0.1513 - val_iou_score: 0.7362\n",
            "Epoch 25/30\n",
            "7/7 [==============================] - 2s 243ms/step - loss: 0.1291 - iou_score: 0.7734 - val_loss: 0.1507 - val_iou_score: 0.7381\n",
            "Epoch 26/30\n",
            "7/7 [==============================] - 1s 215ms/step - loss: 0.1163 - iou_score: 0.7918 - val_loss: 0.1516 - val_iou_score: 0.7374\n",
            "Epoch 27/30\n",
            "7/7 [==============================] - 2s 235ms/step - loss: 0.1210 - iou_score: 0.7851 - val_loss: 0.1516 - val_iou_score: 0.7370\n",
            "Epoch 28/30\n",
            "7/7 [==============================] - 1s 214ms/step - loss: 0.1240 - iou_score: 0.7825 - val_loss: 0.1509 - val_iou_score: 0.7371\n",
            "Epoch 29/30\n",
            "7/7 [==============================] - 2s 237ms/step - loss: 0.1049 - iou_score: 0.8106 - val_loss: 0.1528 - val_iou_score: 0.7358\n",
            "Epoch 30/30\n",
            "7/7 [==============================] - 1s 214ms/step - loss: 0.1041 - iou_score: 0.8115 - val_loss: 0.1575 - val_iou_score: 0.7294\n"
          ]
        }
      ]
    },
    {
      "cell_type": "code",
      "source": [
        "plt.plot(history.history['iou_score'])\n",
        "plt.plot(history.history['val_iou_score'])\n",
        "plt.title('iou coefficient')\n",
        "plt.ylabel('iou')\n",
        "plt.xlabel('epoch')\n",
        "plt.legend(['train', 'test'], loc='upper left')\n",
        "plt.show()"
      ],
      "metadata": {
        "colab": {
          "base_uri": "https://localhost:8080/",
          "height": 295
        },
        "id": "d5VAUGPI3MHH",
        "outputId": "4205c632-712d-465e-a086-72e88b0cf238"
      },
      "execution_count": 24,
      "outputs": [
        {
          "output_type": "display_data",
          "data": {
            "text/plain": [
              "<Figure size 432x288 with 1 Axes>"
            ],
            "image/png": "[encoded data removed]"
          },
          "metadata": {
            "needs_background": "light"
          }
        }
      ]
    },
    {
      "cell_type": "code",
      "source": [
        "def test_prediction(image, true_mask):\n",
        "  HOT_test_img = preprocess_input(np.array([image]))\n",
        "  pred_mask = model.predict(HOT_test_img)\n",
        "\n",
        "  fig = plt.figure(figsize=(10, 5))\n",
        "  fig.add_subplot(1,3,1)\n",
        "  plt.title('image')\n",
        "  plt.imshow(image)\n",
        "  fig.add_subplot(1,3,2)\n",
        "  plt.title('true mask')\n",
        "  plt.imshow(true_mask.reshape((256,256)), cmap='gray')\n",
        "  fig.add_subplot(1,3,3)\n",
        "  plt.title('pred mask')\n",
        "  plt.imshow(pred_mask[0].reshape((256,256)), cmap='gray')\n",
        "\n",
        "  plt.axis('off')\n",
        "  plt.show()"
      ],
      "metadata": {
        "id": "pJ-igzea3Zoq"
      },
      "execution_count": 25,
      "outputs": []
    },
    {
      "cell_type": "code",
      "source": [
        "test_prediction(X_test[0], y_test[0])"
      ],
      "metadata": {
        "colab": {
          "base_uri": "https://localhost:8080/",
          "height": 245
        },
        "id": "XAhAL76T3aRa",
        "outputId": "c42e193e-462c-4f53-cc59-0aacbb94ead9"
      },
      "execution_count": 26,
      "outputs": [
        {
          "output_type": "stream",
          "name": "stdout",
          "text": [
            "1/1 [==============================] - 1s 1s/step\n"
          ]
        },
        {
          "output_type": "display_data",
          "data": {
            "text/plain": [
              "<Figure size 720x360 with 3 Axes>"
            ],
            "image/png": "[encoded data removed]"
          },
          "metadata": {
            "needs_background": "light"
          }
        }
      ]
    }
  ]
}
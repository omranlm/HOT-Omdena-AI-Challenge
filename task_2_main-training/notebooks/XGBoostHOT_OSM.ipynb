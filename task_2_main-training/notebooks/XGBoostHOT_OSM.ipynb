{
 "nbformat": 4,
 "nbformat_minor": 0,
 "metadata": {
  "colab": {
   "provenance": []
  },
  "kernelspec": {
   "name": "python3",
   "display_name": "Python 3"
  },
  "language_info": {
   "name": "python"
  },
  "accelerator": "GPU"
 },
 "cells": [
  {
   "cell_type": "code",
   "execution_count": 1,
   "metadata": {
    "colab": {
     "base_uri": "https://localhost:8080/"
    },
    "id": "eLk5MYAdjF5E",
    "outputId": "e6df889a-dbdb-429b-d34d-97e50c5b1deb"
   },
   "outputs": [
    {
     "output_type": "stream",
     "name": "stdout",
     "text": [
      "Mounted at /content/gdrive\n"
     ]
    }
   ],
   "source": [
    "## Connect Google drive\n",
    "from google.colab import drive\n",
    "\n",
    "drive.mount(\"/content/gdrive\", force_remount=True)"
   ]
  },
  {
   "cell_type": "code",
   "source": [
    "! pip install xgboost\n",
    "# Documentation for GPU: https://xgboost.readthedocs.io/en/latest/gpu/index.html#"
   ],
   "metadata": {
    "colab": {
     "base_uri": "https://localhost:8080/"
    },
    "id": "o-4BNgP-jMPm",
    "outputId": "9a283260-1f9d-418f-a2d3-1776f8f63632"
   },
   "execution_count": 2,
   "outputs": [
    {
     "output_type": "stream",
     "name": "stdout",
     "text": [
      "Looking in indexes: https://pypi.org/simple, https://us-python.pkg.dev/colab-wheels/public/simple/\n",
      "Requirement already satisfied: xgboost in /usr/local/lib/python3.7/dist-packages (0.90)\n",
      "Requirement already satisfied: numpy in /usr/local/lib/python3.7/dist-packages (from xgboost) (1.21.6)\n",
      "Requirement already satisfied: scipy in /usr/local/lib/python3.7/dist-packages (from xgboost) (1.7.3)\n"
     ]
    }
   ]
  },
  {
   "cell_type": "code",
   "source": [
    "## Importing libraries\n",
    "import numpy as np\n",
    "import matplotlib.pyplot as plt\n",
    "import glob\n",
    "import cv2\n",
    "import pickle\n",
    "import os\n",
    "from keras.models import Model\n",
    "from keras.applications.vgg16 import VGG16\n",
    "from tensorflow.keras.preprocessing.image import img_to_array"
   ],
   "metadata": {
    "id": "JRGV9qRsjRTO"
   },
   "execution_count": 3,
   "outputs": []
  },
  {
   "cell_type": "code",
   "source": [
    "# print(os.listdir(\"/content/gdrive/MyDrive/HOTimages\"))\n",
    "\n",
    "SIZE = 256"
   ],
   "metadata": {
    "id": "BgdtXtoVjwUN"
   },
   "execution_count": 4,
   "outputs": []
  },
  {
   "cell_type": "code",
   "source": [
    "# Capture training images and convert to numpy array\n",
    "training_images = glob.glob(\"/content/gdrive/MyDrive/HOTimages/training_images_1/*.tif\")\n",
    "training_images.sort()\n",
    "\n",
    "images = [cv2.imread(image, 1) for image in training_images]\n",
    "image_dataset = np.array(images)\n",
    "# image_dataset = np.expand_dims(image_dataset, axis = 3)"
   ],
   "metadata": {
    "id": "2ZzDruFxkLDd"
   },
   "execution_count": 5,
   "outputs": []
  },
  {
   "cell_type": "code",
   "source": [
    "# Capture training images, sorting and converting to numpy array\n",
    "training_mask = glob.glob(\"/content/gdrive/MyDrive/HOTimages/training_masks_1/*.tif\")\n",
    "training_mask.sort()\n",
    "\n",
    "masks = [cv2.imread(mask, 0) for mask in training_mask]\n",
    "mask_dataset = np.array(masks)"
   ],
   "metadata": {
    "id": "3bgMAf0SkLGn"
   },
   "execution_count": 6,
   "outputs": []
  },
  {
   "cell_type": "code",
   "source": [
    "print(\"Total images in the original dataset are: \", len(training_images))\n",
    "print(\"Image data shape is: \", image_dataset.shape)\n",
    "print(\"Mask data shape is: \", mask_dataset.shape)\n",
    "print(\"Max pixel value in image is: \", image_dataset.max())\n",
    "print(\"Labels in the mask are : \", np.unique(mask_dataset))"
   ],
   "metadata": {
    "colab": {
     "base_uri": "https://localhost:8080/"
    },
    "id": "k3mnO3xGDdcH",
    "outputId": "dede4a2e-6d96-4084-d1ee-2e961cb5d3af"
   },
   "execution_count": 7,
   "outputs": [
    {
     "output_type": "stream",
     "name": "stdout",
     "text": [
      "Total images in the original dataset are:  32\n",
      "Image data shape is:  (32, 256, 256, 3)\n",
      "Mask data shape is:  (32, 256, 256)\n",
      "Max pixel value in image is:  255\n",
      "Labels in the mask are :  [  0 255]\n"
     ]
    }
   ]
  },
  {
   "cell_type": "code",
   "source": [
    "# label encoding\n",
    "from sklearn.preprocessing import LabelEncoder\n",
    "\n",
    "labelencoder = LabelEncoder()\n",
    "n, h, w = mask_dataset.shape\n",
    "mask_dataset_reshaped = mask_dataset.reshape(-1, 1)\n",
    "mask_dataset_reshaped_encoded = labelencoder.fit_transform(mask_dataset_reshaped)\n",
    "mask_dataset_encoded = mask_dataset_reshaped_encoded.reshape(n, h, w)\n",
    "\n",
    "np.unique(mask_dataset_encoded)"
   ],
   "metadata": {
    "colab": {
     "base_uri": "https://localhost:8080/"
    },
    "id": "n3wHISbADiJa",
    "outputId": "53d858c5-670b-4274-e139-ee514c25939d"
   },
   "execution_count": 8,
   "outputs": [
    {
     "output_type": "stream",
     "name": "stderr",
     "text": [
      "/usr/local/lib/python3.7/dist-packages/sklearn/preprocessing/_label.py:115: DataConversionWarning: A column-vector y was passed when a 1d array was expected. Please change the shape of y to (n_samples, ), for example using ravel().\n",
      "  y = column_or_1d(y, warn=True)\n"
     ]
    },
    {
     "output_type": "execute_result",
     "data": {
      "text/plain": [
       "array([0, 1])"
      ]
     },
     "metadata": {},
     "execution_count": 8
    }
   ]
  },
  {
   "cell_type": "code",
   "source": [
    "# Normalize images\n",
    "image_dataset = image_dataset / 255.0"
   ],
   "metadata": {
    "id": "TVYgoXSAD43C"
   },
   "execution_count": 9,
   "outputs": []
  },
  {
   "cell_type": "code",
   "source": [
    "# Split training data\n",
    "from sklearn.model_selection import train_test_split\n",
    "\n",
    "X_train, X_test, y_train, y_test = train_test_split(\n",
    "    image_dataset, mask_dataset_encoded, test_size=0.2, random_state=42\n",
    ")"
   ],
   "metadata": {
    "id": "VxpRtgFhD46N"
   },
   "execution_count": 10,
   "outputs": []
  },
  {
   "cell_type": "code",
   "source": [
    "# Load VGG16 model without classifier/fully connected layers\n",
    "# Load imagenet weights for extracting features\n",
    "VGG_model = VGG16(weights=\"imagenet\", include_top=False, input_shape=(SIZE, SIZE, 3))\n",
    "\n",
    "\n",
    "# We are not using any trainable layers here.....just using pretrained weights\n",
    "for layer in VGG_model.layers:\n",
    "    layer.trainable = False\n",
    "\n",
    "# No trainable parameters(important)\n",
    "VGG_model.summary()"
   ],
   "metadata": {
    "colab": {
     "base_uri": "https://localhost:8080/"
    },
    "id": "pKKNHwSCD49X",
    "outputId": "808bdfbe-f319-482f-d699-cff4e8fe8f94"
   },
   "execution_count": 11,
   "outputs": [
    {
     "output_type": "stream",
     "name": "stdout",
     "text": [
      "Downloading data from https://storage.googleapis.com/tensorflow/keras-applications/vgg16/vgg16_weights_tf_dim_ordering_tf_kernels_notop.h5\n",
      "58889256/58889256 [==============================] - 0s 0us/step\n",
      "Model: \"vgg16\"\n",
      "_________________________________________________________________\n",
      " Layer (type)                Output Shape              Param #   \n",
      "=================================================================\n",
      " input_1 (InputLayer)        [(None, 256, 256, 3)]     0         \n",
      "                                                                 \n",
      " block1_conv1 (Conv2D)       (None, 256, 256, 64)      1792      \n",
      "                                                                 \n",
      " block1_conv2 (Conv2D)       (None, 256, 256, 64)      36928     \n",
      "                                                                 \n",
      " block1_pool (MaxPooling2D)  (None, 128, 128, 64)      0         \n",
      "                                                                 \n",
      " block2_conv1 (Conv2D)       (None, 128, 128, 128)     73856     \n",
      "                                                                 \n",
      " block2_conv2 (Conv2D)       (None, 128, 128, 128)     147584    \n",
      "                                                                 \n",
      " block2_pool (MaxPooling2D)  (None, 64, 64, 128)       0         \n",
      "                                                                 \n",
      " block3_conv1 (Conv2D)       (None, 64, 64, 256)       295168    \n",
      "                                                                 \n",
      " block3_conv2 (Conv2D)       (None, 64, 64, 256)       590080    \n",
      "                                                                 \n",
      " block3_conv3 (Conv2D)       (None, 64, 64, 256)       590080    \n",
      "                                                                 \n",
      " block3_pool (MaxPooling2D)  (None, 32, 32, 256)       0         \n",
      "                                                                 \n",
      " block4_conv1 (Conv2D)       (None, 32, 32, 512)       1180160   \n",
      "                                                                 \n",
      " block4_conv2 (Conv2D)       (None, 32, 32, 512)       2359808   \n",
      "                                                                 \n",
      " block4_conv3 (Conv2D)       (None, 32, 32, 512)       2359808   \n",
      "                                                                 \n",
      " block4_pool (MaxPooling2D)  (None, 16, 16, 512)       0         \n",
      "                                                                 \n",
      " block5_conv1 (Conv2D)       (None, 16, 16, 512)       2359808   \n",
      "                                                                 \n",
      " block5_conv2 (Conv2D)       (None, 16, 16, 512)       2359808   \n",
      "                                                                 \n",
      " block5_conv3 (Conv2D)       (None, 16, 16, 512)       2359808   \n",
      "                                                                 \n",
      " block5_pool (MaxPooling2D)  (None, 8, 8, 512)         0         \n",
      "                                                                 \n",
      "=================================================================\n",
      "Total params: 14,714,688\n",
      "Trainable params: 0\n",
      "Non-trainable params: 14,714,688\n",
      "_________________________________________________________________\n"
     ]
    }
   ]
  },
  {
   "cell_type": "code",
   "source": [
    "# Extract only 2 conv layers/blocks\n",
    "new_model = Model(\n",
    "    inputs=VGG_model.input, outputs=VGG_model.get_layer(\"block1_conv2\").output\n",
    ")\n",
    "new_model.summary()"
   ],
   "metadata": {
    "colab": {
     "base_uri": "https://localhost:8080/"
    },
    "id": "VUgsJqitD4_-",
    "outputId": "a3d502d6-818d-434b-9d71-18fb25d2cf78"
   },
   "execution_count": 12,
   "outputs": [
    {
     "output_type": "stream",
     "name": "stdout",
     "text": [
      "Model: \"model\"\n",
      "_________________________________________________________________\n",
      " Layer (type)                Output Shape              Param #   \n",
      "=================================================================\n",
      " input_1 (InputLayer)        [(None, 256, 256, 3)]     0         \n",
      "                                                                 \n",
      " block1_conv1 (Conv2D)       (None, 256, 256, 64)      1792      \n",
      "                                                                 \n",
      " block1_conv2 (Conv2D)       (None, 256, 256, 64)      36928     \n",
      "                                                                 \n",
      "=================================================================\n",
      "Total params: 38,720\n",
      "Trainable params: 0\n",
      "Non-trainable params: 38,720\n",
      "_________________________________________________________________\n"
     ]
    }
   ]
  },
  {
   "cell_type": "code",
   "source": [
    "# Extract features from convolutional layers\n",
    "features = new_model.predict(X_train)"
   ],
   "metadata": {
    "colab": {
     "base_uri": "https://localhost:8080/"
    },
    "id": "M3k4jeWXEfze",
    "outputId": "fb3632d7-58b3-4221-d067-4eeaa46b9c9c"
   },
   "execution_count": 13,
   "outputs": [
    {
     "output_type": "stream",
     "name": "stdout",
     "text": [
      "1/1 [==============================] - 8s 8s/step\n"
     ]
    }
   ]
  },
  {
   "cell_type": "code",
   "source": [
    "# Reassign 'features' as X\n",
    "X = features\n",
    "\n",
    "# Reshape X to match with labels that can be used for XGBoost model\n",
    "\n",
    "X = X.reshape(-1, X.shape[3])\n",
    "\n",
    "print(X.shape)"
   ],
   "metadata": {
    "colab": {
     "base_uri": "https://localhost:8080/"
    },
    "id": "vggm3wprEf3g",
    "outputId": "c8e4f2d7-b98d-4bb8-92ae-76e11efd5721"
   },
   "execution_count": 14,
   "outputs": [
    {
     "output_type": "stream",
     "name": "stdout",
     "text": [
      "(1638400, 64)\n"
     ]
    }
   ]
  },
  {
   "cell_type": "code",
   "source": [
    "# Reshape Y to match X\n",
    "Y = y_train.reshape(-1)\n",
    "print(Y.shape)"
   ],
   "metadata": {
    "colab": {
     "base_uri": "https://localhost:8080/"
    },
    "id": "BwgYR82oEf61",
    "outputId": "55216432-5adf-4320-9ed5-53620b949978"
   },
   "execution_count": 15,
   "outputs": [
    {
     "output_type": "stream",
     "name": "stdout",
     "text": [
      "(1638400,)\n"
     ]
    }
   ]
  },
  {
   "cell_type": "code",
   "source": [
    "np.unique(Y)"
   ],
   "metadata": {
    "colab": {
     "base_uri": "https://localhost:8080/"
    },
    "id": "GPCVUYiDEf-A",
    "outputId": "9d2f18f2-1d7b-4432-c785-38eb643bdde3"
   },
   "execution_count": 16,
   "outputs": [
    {
     "output_type": "execute_result",
     "data": {
      "text/plain": [
       "array([0, 1])"
      ]
     },
     "metadata": {},
     "execution_count": 16
    }
   ]
  },
  {
   "cell_type": "code",
   "source": [
    "# XGBOOST\n",
    "\n",
    "import xgboost as xgb\n",
    "\n",
    "model = xgb.XGBClassifier()\n",
    "\n",
    "# Define gpu_id, otherwise it uses CPU and would take longer\n",
    "# model = xgb.XGBClassifier(tree_method='gpu_hist', gpu_id=0)"
   ],
   "metadata": {
    "id": "dqKAlOKOEgBY"
   },
   "execution_count": 17,
   "outputs": []
  },
  {
   "cell_type": "code",
   "source": [
    "# Train the model on training data. I used default parameters\n",
    "model.fit(X, Y)"
   ],
   "metadata": {
    "colab": {
     "base_uri": "https://localhost:8080/"
    },
    "id": "7Vxb6X8KE8_V",
    "outputId": "68ce6523-dec6-4f56-b73a-09b7f8bfe291"
   },
   "execution_count": 18,
   "outputs": [
    {
     "output_type": "execute_result",
     "data": {
      "text/plain": [
       "XGBClassifier()"
      ]
     },
     "metadata": {},
     "execution_count": 18
    }
   ]
  },
  {
   "cell_type": "code",
   "source": [
    "# Can try fine tuning it.\n",
    "# XGBClassifier(base_score=0.5, booster='gbtree', colsample_bylevel=1,\n",
    "# colsample_bynode=1, colsample_bytree=1, gamma=0, gpu_id=0,\n",
    "# learning_rate=0.1, max_delta_step=0, max_depth=3,\n",
    "# min_child_weight=1, missing=None, n_estimators=100, n_jobs=1,\n",
    "# nthread=None, objective='multi:softprob', random_state=0,\n",
    "# reg_alpha=0, reg_lambda=1, scale_pos_weight=1, seed=None,\n",
    "# silent=None, subsample=1, tree_method='gpu_hist', verbosity=1)"
   ],
   "metadata": {
    "id": "CwZbU94Rd_eM"
   },
   "execution_count": 19,
   "outputs": []
  },
  {
   "cell_type": "code",
   "source": [
    "# Save model for future use\n",
    "\n",
    "filename = \"/content/gdrive/MyDrive/HOTimages/model_XGB.sav\""
   ],
   "metadata": {
    "id": "nQKUL6MVGre0"
   },
   "execution_count": 23,
   "outputs": []
  },
  {
   "cell_type": "code",
   "source": [
    "pickle.dump(model, open(filename, \"wb\"))"
   ],
   "metadata": {
    "id": "Q_Ek2q1NGrjL"
   },
   "execution_count": 24,
   "outputs": []
  },
  {
   "cell_type": "code",
   "source": [
    "# Load model\n",
    "loaded_model = pickle.load(open(filename, \"rb\"))"
   ],
   "metadata": {
    "id": "RuMWQhHPGrpJ"
   },
   "execution_count": 25,
   "outputs": []
  },
  {
   "cell_type": "code",
   "source": [
    "X_test_features = new_model.predict(X_test)\n",
    "X_test_features = X_test_features.reshape(-1, X_test_features.shape[3])\n",
    "print(X_test_features.shape)"
   ],
   "metadata": {
    "colab": {
     "base_uri": "https://localhost:8080/"
    },
    "id": "tQp6SsqVE9DB",
    "outputId": "11355aa6-9abd-4ba9-a2c2-df875c4af3db"
   },
   "execution_count": 26,
   "outputs": [
    {
     "output_type": "stream",
     "name": "stdout",
     "text": [
      "1/1 [==============================] - 0s 375ms/step\n",
      "(458752, 64)\n"
     ]
    }
   ]
  },
  {
   "cell_type": "code",
   "source": [
    "# Predict using trained XGB model\n",
    "y_pred = loaded_model.predict(X_test_features)\n",
    "print(y_pred.shape)"
   ],
   "metadata": {
    "colab": {
     "base_uri": "https://localhost:8080/"
    },
    "id": "YNotgWIAE9Gv",
    "outputId": "f311d959-dc55-4f8c-936e-1222e5e9463d"
   },
   "execution_count": 27,
   "outputs": [
    {
     "output_type": "stream",
     "name": "stdout",
     "text": [
      "(458752,)\n"
     ]
    }
   ]
  },
  {
   "cell_type": "code",
   "source": [
    "test_labels = y_test.reshape(-1)\n",
    "print(test_labels.shape)"
   ],
   "metadata": {
    "colab": {
     "base_uri": "https://localhost:8080/"
    },
    "id": "P43tPBpUE9KF",
    "outputId": "a498f56a-5e19-4a9b-9221-996e5eb428ca"
   },
   "execution_count": 28,
   "outputs": [
    {
     "output_type": "stream",
     "name": "stdout",
     "text": [
      "(458752,)\n"
     ]
    }
   ]
  },
  {
   "cell_type": "code",
   "source": [
    "# Confusion Matrix - verify accuracy of each class\n",
    "from sklearn.metrics import confusion_matrix\n",
    "import seaborn as sns\n",
    "\n",
    "cm = confusion_matrix(test_labels, y_pred)\n",
    "# print(cm)\n",
    "sns.heatmap(cm, annot=True)"
   ],
   "metadata": {
    "colab": {
     "base_uri": "https://localhost:8080/",
     "height": 282
    },
    "id": "TaDPdXHDgwBy",
    "outputId": "cdbe9c93-e9a4-4585-d0c7-69c2e4a255ca"
   },
   "execution_count": 29,
   "outputs": [
    {
     "output_type": "execute_result",
     "data": {
      "text/plain": [
       "<matplotlib.axes._subplots.AxesSubplot at 0x7f4c7ab27790>"
      ]
     },
     "metadata": {},
     "execution_count": 29
    },
    {
     "output_type": "display_data",
     "data": {
      "text/plain": [
       "<Figure size 432x288 with 2 Axes>"
      ],
      "image/png": "[encoded data removed]"
     },
     "metadata": {
      "needs_background": "light"
     }
    }
   ]
  },
  {
   "cell_type": "code",
   "source": [
    "# Print overall accuracy not just pixel accuracy\n",
    "from sklearn import metrics\n",
    "\n",
    "print(\"Accuracy = \", metrics.accuracy_score(test_labels, y_pred))"
   ],
   "metadata": {
    "colab": {
     "base_uri": "https://localhost:8080/"
    },
    "id": "-12g1bQ2Kl42",
    "outputId": "b8f06037-6879-4ea1-cb04-69627d25e7aa"
   },
   "execution_count": 30,
   "outputs": [
    {
     "output_type": "stream",
     "name": "stdout",
     "text": [
      "Accuracy =  0.9863564627511161\n"
     ]
    }
   ]
  },
  {
   "cell_type": "code",
   "source": [
    "# IOU(Intersection over Union)\n",
    "from keras.metrics import MeanIoU\n",
    "\n",
    "# Using built in keras function\n",
    "\n",
    "n_classes = 2\n",
    "IOU_keras = MeanIoU(num_classes=n_classes)\n",
    "IOU_keras.update_state(test_labels, y_pred)\n",
    "print(\"Mean IoU =\", IOU_keras.result().numpy())"
   ],
   "metadata": {
    "colab": {
     "base_uri": "https://localhost:8080/"
    },
    "id": "0sdked5rKl8Z",
    "outputId": "00949307-d855-41ba-8d80-8d5a145c2419"
   },
   "execution_count": 31,
   "outputs": [
    {
     "output_type": "stream",
     "name": "stdout",
     "text": [
      "Mean IoU = 0.87455106\n"
     ]
    }
   ]
  },
  {
   "cell_type": "code",
   "source": [
    "import random\n",
    "\n",
    "img_number = random.randint(0, len(X_test) - 1)\n",
    "img = X_test[img_number]\n",
    "img = np.expand_dims(img, axis=0)\n",
    "\n",
    "img_features = new_model.predict(img)\n",
    "img_features = img_features.reshape(-1, img_features.shape[3])\n",
    "mask = y_test[img_number]\n",
    "\n",
    "prediction = loaded_model.predict(img_features)\n",
    "predicted_mask = prediction.reshape(mask.shape[0], mask.shape[1])\n",
    "\n",
    "plt.figure(figsize=(12, 8))\n",
    "plt.subplot(231)\n",
    "plt.title(\"Image\")\n",
    "plt.imshow(img[0], cmap=\"gray\")\n",
    "plt.subplot(232)\n",
    "plt.title(\"Mask\")\n",
    "plt.imshow(mask)\n",
    "plt.subplot(233)\n",
    "plt.title(\"Prediction\")\n",
    "plt.imshow(predicted_mask)\n",
    "plt.show()"
   ],
   "metadata": {
    "colab": {
     "base_uri": "https://localhost:8080/",
     "height": 278
    },
    "id": "SM2wcbcKKl_6",
    "outputId": "21b2a975-3545-41ef-f4bf-fdf5949388ad"
   },
   "execution_count": 32,
   "outputs": [
    {
     "output_type": "stream",
     "name": "stdout",
     "text": [
      "1/1 [==============================] - 0s 149ms/step\n"
     ]
    },
    {
     "output_type": "display_data",
     "data": {
      "text/plain": [
       "<Figure size 864x576 with 3 Axes>"
      ],
      "image/png": "[encoded data removed]"
     },
     "metadata": {
      "needs_background": "light"
     }
    }
   ]
  },
  {
   "cell_type": "code",
   "source": [],
   "metadata": {
    "id": "gP1NCdbmKmGm"
   },
   "execution_count": null,
   "outputs": []
  }
 ]
}
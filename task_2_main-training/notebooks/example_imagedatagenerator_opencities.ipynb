{
 "cells": [
  {
   "cell_type": "markdown",
   "source": [
    "# Notebook for testing the Keras-ImageDataGenerator"
   ],
   "metadata": {
    "id": "EcFYT5jsLQDe"
   }
  },
  {
   "cell_type": "markdown",
   "source": [
    "Test was done with Open Cities Dataset from https://www.kaggle.com/datasets/johnowhitaker/opencitiestilesmasked. Things to consider:\n",
    "* IMAGE_SIZE of this dataset is 512x512.\n",
    "* Labels have value 255 in mask images."
   ],
   "metadata": {
    "id": "V_8xoWneNx2i"
   }
  },
  {
   "cell_type": "code",
   "execution_count": null,
   "metadata": {
    "id": "4SM7vW6W3DoU"
   },
   "outputs": [],
   "source": [
    "from google.colab import drive\n",
    "\n",
    "drive.mount(\"/content/drive\")"
   ]
  },
  {
   "cell_type": "code",
   "execution_count": null,
   "metadata": {
    "id": "HvnRYP_n34v7"
   },
   "outputs": [],
   "source": [
    "import tensorflow as tf\n",
    "from tensorflow import keras\n",
    "from tensorflow.keras import Sequential\n",
    "from tensorflow.keras.layers import *\n",
    "from tensorflow.keras.models import *\n",
    "from tensorflow.keras.losses import *\n",
    "from tensorflow.keras.optimizers import *\n",
    "from tensorflow.keras.metrics import *\n",
    "import tensorflow.keras.backend as K\n",
    "from tensorflow.keras.preprocessing.image import load_img\n",
    "from tensorflow.keras.applications.efficientnet import EfficientNetB4\n",
    "from tensorflow.keras.preprocessing.image import ImageDataGenerator\n",
    "from tensorflow.keras.preprocessing.image import img_to_array\n",
    "from tensorflow.keras.callbacks import LearningRateScheduler, EarlyStopping\n",
    "import numpy as np\n",
    "from sklearn.utils import shuffle\n",
    "\n",
    "import matplotlib.pyplot as plt\n",
    "import seaborn as sns\n",
    "import plotly.express as px\n",
    "import plotly.graph_objects as go\n",
    "import cv2\n",
    "import os"
   ]
  },
  {
   "cell_type": "code",
   "source": [
    "device_name = tf.test.gpu_device_name()\n",
    "if device_name != \"/device:GPU:0\":\n",
    "    raise SystemError(\"GPU device not found\")\n",
    "print(\"Found GPU at: {}\".format(device_name))"
   ],
   "metadata": {
    "id": "6JS_oAcZNq2S"
   },
   "execution_count": null,
   "outputs": []
  },
  {
   "cell_type": "markdown",
   "source": [
    "Images and labels has to be in subfolders (e. g. 'data') for the import with the flow_from_directory-Function. "
   ],
   "metadata": {
    "id": "udA3GQNzLunJ"
   }
  },
  {
   "cell_type": "code",
   "execution_count": null,
   "metadata": {
    "id": "WPQfZESf3Vvg"
   },
   "outputs": [],
   "source": [
    "folder = \"/content/drive/My Drive/Dokumente/omdena/hotosm/02_data/kaggle_opencities_masked_256/\"\n",
    "image_path = folder + \"images-256/\"\n",
    "label_path = folder + \"masks-256/\""
   ]
  },
  {
   "cell_type": "markdown",
   "source": [
    "Defining variables."
   ],
   "metadata": {
    "id": "BBaVA34aMJ7M"
   }
  },
  {
   "cell_type": "code",
   "source": [
    "IMAGE_SIZE = 512\n",
    "BATCH_SIZE = 16"
   ],
   "metadata": {
    "id": "z2HtENm_H4KB"
   },
   "execution_count": null,
   "outputs": []
  },
  {
   "cell_type": "markdown",
   "source": [
    "Opening some example datasets for fitting the ImageDataGenerator (see below)."
   ],
   "metadata": {
    "id": "cltrSg1JMBfE"
   }
  },
  {
   "cell_type": "code",
   "source": [
    "images_paths = [\n",
    "    image_path + \"data/\" + file for file in os.listdir(image_path + \"data/\")\n",
    "]\n",
    "example_image = img_to_array(load_img(images_paths[0], color_mode=\"rgb\")).reshape(\n",
    "    -1, IMAGE_SIZE, IMAGE_SIZE, 3\n",
    ")\n",
    "print(f\"Shape of example_image: {example_image.shape}\")"
   ],
   "metadata": {
    "id": "y-XTBzFLme5-"
   },
   "execution_count": null,
   "outputs": []
  },
  {
   "cell_type": "code",
   "source": [
    "label_paths = [label_path + \"data/\" + file for file in os.listdir(label_path + \"data/\")]\n",
    "example_mask = img_to_array(load_img(label_paths[0], color_mode=\"grayscale\")).reshape(\n",
    "    -1, IMAGE_SIZE, IMAGE_SIZE, 1\n",
    ")\n",
    "print(f\"Shape of example_mask: {example_mask.shape}\")"
   ],
   "metadata": {
    "id": "V_wnr-LyphIE"
   },
   "execution_count": null,
   "outputs": []
  },
  {
   "cell_type": "markdown",
   "source": [
    "### Defining ImageDataGenerator"
   ],
   "metadata": {
    "id": "Hm-noVBKKL60"
   }
  },
  {
   "cell_type": "markdown",
   "source": [
    "Definition of ImageDataGenerators."
   ],
   "metadata": {
    "id": "DBGVn6hFKl0d"
   }
  },
  {
   "cell_type": "code",
   "source": [
    "data_gen_args = dict(\n",
    "    horizontal_flip=True,\n",
    "    vertical_flip=True,\n",
    "    rotation_range=90,\n",
    "    rescale=1.0 / 255,\n",
    "    validation_split=0.2,\n",
    ")\n",
    "train_image_datagen = ImageDataGenerator(**data_gen_args)\n",
    "train_mask_datagen = ImageDataGenerator(**data_gen_args)\n",
    "val_image_datagen = ImageDataGenerator(**data_gen_args)\n",
    "val_mask_datagen = ImageDataGenerator(**data_gen_args)"
   ],
   "metadata": {
    "id": "u4C-0R3wIG04"
   },
   "execution_count": null,
   "outputs": []
  },
  {
   "cell_type": "markdown",
   "source": [
    "Fiting the ImageDataGenerator with example images (see above)."
   ],
   "metadata": {
    "id": "aFj6hA7XKv9Z"
   }
  },
  {
   "cell_type": "code",
   "source": [
    "seed = 101\n",
    "train_image_datagen.fit(example_image, augment=True, seed=seed)\n",
    "train_mask_datagen.fit(example_mask, augment=True, seed=seed)\n",
    "val_image_datagen.fit(example_image, augment=True, seed=seed)\n",
    "val_mask_datagen.fit(example_mask, augment=True, seed=seed)"
   ],
   "metadata": {
    "id": "ZXA2j4u8IWHE"
   },
   "execution_count": null,
   "outputs": []
  },
  {
   "cell_type": "markdown",
   "source": [
    "Call flow_from_directory-Function for training data."
   ],
   "metadata": {
    "id": "K6jxOQeRK5Vd"
   }
  },
  {
   "cell_type": "code",
   "source": [
    "train_image_generator = train_image_datagen.flow_from_directory(\n",
    "    image_path,\n",
    "    class_mode=None,\n",
    "    color_mode=\"rgb\",\n",
    "    batch_size=BATCH_SIZE,\n",
    "    target_size=(IMAGE_SIZE, IMAGE_SIZE),\n",
    "    subset=\"training\",\n",
    "    seed=seed,\n",
    ")\n",
    "train_mask_generator = train_mask_datagen.flow_from_directory(\n",
    "    label_path,\n",
    "    class_mode=None,\n",
    "    color_mode=\"grayscale\",\n",
    "    batch_size=BATCH_SIZE,\n",
    "    target_size=(IMAGE_SIZE, IMAGE_SIZE),\n",
    "    subset=\"training\",\n",
    "    seed=seed,\n",
    ")\n",
    "\n",
    "train_generator = zip(train_image_generator, train_mask_generator)"
   ],
   "metadata": {
    "id": "HC1YUkgzIY1s"
   },
   "execution_count": null,
   "outputs": []
  },
  {
   "cell_type": "markdown",
   "source": [
    "Call flow_from_directory-Function for validation data."
   ],
   "metadata": {
    "id": "4pbxsyzcLGmt"
   }
  },
  {
   "cell_type": "code",
   "source": [
    "val_image_generator = val_image_datagen.flow_from_directory(\n",
    "    image_path,\n",
    "    class_mode=None,\n",
    "    color_mode=\"rgb\",\n",
    "    batch_size=BATCH_SIZE,\n",
    "    target_size=(IMAGE_SIZE, IMAGE_SIZE),\n",
    "    subset=\"validation\",\n",
    "    seed=seed,\n",
    ")\n",
    "val_mask_generator = val_mask_datagen.flow_from_directory(\n",
    "    label_path,\n",
    "    class_mode=None,\n",
    "    color_mode=\"grayscale\",\n",
    "    batch_size=BATCH_SIZE,\n",
    "    target_size=(IMAGE_SIZE, IMAGE_SIZE),\n",
    "    subset=\"validation\",\n",
    "    seed=seed,\n",
    ")\n",
    "\n",
    "val_generator = zip(val_image_generator, val_mask_generator)"
   ],
   "metadata": {
    "id": "QvPqJqZLIf-W"
   },
   "execution_count": null,
   "outputs": []
  },
  {
   "cell_type": "markdown",
   "source": [
    "### Defining CNN architecture"
   ],
   "metadata": {
    "id": "_s6uZga9J5NA"
   }
  },
  {
   "cell_type": "markdown",
   "source": [
    "Simplifed Sequential-Model for testing the ImageDataGenerator."
   ],
   "metadata": {
    "id": "m_NsZGnSJ8b5"
   }
  },
  {
   "cell_type": "code",
   "source": [
    "cnn = Sequential()\n",
    "cnn.add(\n",
    "    Conv2D(\n",
    "        8,\n",
    "        (3, 3),\n",
    "        activation=\"relu\",\n",
    "        padding=\"same\",\n",
    "        input_shape=(IMAGE_SIZE, IMAGE_SIZE, 3),\n",
    "    )\n",
    ")\n",
    "cnn.add(Conv2D(8, (3, 3), activation=\"relu\", padding=\"same\"))\n",
    "cnn.add(MaxPooling2D((2, 2)))\n",
    "cnn.add(Conv2D(16, (3, 3), activation=\"relu\", padding=\"same\"))\n",
    "cnn.add(Conv2D(16, (3, 3), activation=\"relu\", padding=\"same\"))\n",
    "cnn.add(MaxPooling2D((2, 2)))\n",
    "cnn.add(Conv2D(32, (3, 3), activation=\"relu\", padding=\"same\"))\n",
    "cnn.add(Conv2D(32, (3, 3), activation=\"relu\", padding=\"same\"))\n",
    "cnn.add(MaxPooling2D((2, 2)))\n",
    "cnn.add(Conv2D(64, (3, 3), activation=\"relu\", padding=\"same\"))\n",
    "cnn.add(Conv2D(64, (3, 3), activation=\"relu\", padding=\"same\"))\n",
    "cnn.add(MaxPooling2D(pool_size=(2, 2)))\n",
    "cnn.add(Conv2D(64, (3, 3), activation=\"relu\", padding=\"same\"))\n",
    "cnn.add(Conv2D(64, (3, 3), activation=\"relu\", padding=\"same\"))\n",
    "cnn.add(MaxPooling2D(pool_size=(2, 2)))\n",
    "cnn.add(Conv2D(128, (3, 3), activation=\"relu\", padding=\"same\"))\n",
    "cnn.add(Conv2D(128, (3, 3), activation=\"relu\", padding=\"same\"))\n",
    "\n",
    "cnn.add(Conv2DTranspose(64, (2, 2), strides=(2, 2), padding=\"same\"))\n",
    "cnn.add(Conv2D(64, (3, 3), activation=\"relu\", padding=\"same\"))\n",
    "cnn.add(Conv2D(64, (3, 3), activation=\"relu\", padding=\"same\"))\n",
    "\n",
    "cnn.add(Conv2DTranspose(32, (2, 2), strides=(2, 2), padding=\"same\"))\n",
    "cnn.add(Conv2D(32, (3, 3), activation=\"relu\", padding=\"same\"))\n",
    "cnn.add(Conv2D(32, (3, 3), activation=\"relu\", padding=\"same\"))\n",
    "\n",
    "cnn.add(Conv2DTranspose(32, (2, 2), strides=(2, 2), padding=\"same\"))\n",
    "cnn.add(Conv2D(32, (3, 3), activation=\"relu\", padding=\"same\"))\n",
    "cnn.add(Conv2D(32, (3, 3), activation=\"relu\", padding=\"same\"))\n",
    "\n",
    "cnn.add(Conv2DTranspose(16, (2, 2), strides=(2, 2), padding=\"same\"))\n",
    "cnn.add(Conv2D(16, (3, 3), activation=\"relu\", padding=\"same\"))\n",
    "cnn.add(Conv2D(16, (3, 3), activation=\"relu\", padding=\"same\"))\n",
    "\n",
    "cnn.add(Conv2DTranspose(8, (2, 2), strides=(2, 2), padding=\"same\"))\n",
    "cnn.add(Conv2D(8, (3, 3), activation=\"relu\", padding=\"same\"))\n",
    "cnn.add(Conv2D(8, (3, 3), activation=\"relu\", padding=\"same\"))\n",
    "\n",
    "cnn.add(Conv2D(1, (1, 1), activation=\"sigmoid\"))"
   ],
   "metadata": {
    "id": "6NuyMbCzIlZ6"
   },
   "execution_count": null,
   "outputs": []
  },
  {
   "cell_type": "code",
   "source": [
    "cnn.summary()"
   ],
   "metadata": {
    "id": "ZGMWynzUI1Qr"
   },
   "execution_count": null,
   "outputs": []
  },
  {
   "cell_type": "markdown",
   "source": [
    "### Compiling CNN Model"
   ],
   "metadata": {
    "id": "ArHBDOjdJjSC"
   }
  },
  {
   "cell_type": "code",
   "source": [
    "cnn.compile(\n",
    "    optimizer=Adam(learning_rate=0.001),\n",
    "    loss=\"binary_crossentropy\",\n",
    "    metrics=[\"accuracy\"],\n",
    ")"
   ],
   "metadata": {
    "id": "UHJlxTwzI8Sm"
   },
   "execution_count": null,
   "outputs": []
  },
  {
   "cell_type": "markdown",
   "source": [
    "### Defining Callback functions"
   ],
   "metadata": {
    "id": "scvruDj7JpBN"
   }
  },
  {
   "cell_type": "code",
   "source": [
    "def scheduler(epoch, lr):\n",
    "    if epoch < 5:\n",
    "        return lr\n",
    "    else:\n",
    "        return lr * tf.math.exp(-0.1)"
   ],
   "metadata": {
    "id": "VlaAGZ92JCEg"
   },
   "execution_count": null,
   "outputs": []
  },
  {
   "cell_type": "code",
   "source": [
    "lr_scheduler = LearningRateScheduler(scheduler)\n",
    "early_stop = EarlyStopping(monitor=\"loss\", patience=5)"
   ],
   "metadata": {
    "id": "LZg-sAinJFyr"
   },
   "execution_count": null,
   "outputs": []
  },
  {
   "cell_type": "markdown",
   "source": [
    "### Training of CNN"
   ],
   "metadata": {
    "id": "4-oqt0kgJysv"
   }
  },
  {
   "cell_type": "code",
   "source": [
    "training = cnn.fit(\n",
    "    train_generator,\n",
    "    batch_size=BATCH_SIZE,\n",
    "    epochs=10,\n",
    "    steps_per_epoch=32,\n",
    "    validation_data=val_generator,\n",
    "    validation_steps=32,\n",
    "    workers=16,\n",
    "    use_multiprocessing=True,\n",
    "    callbacks=[early_stop, lr_scheduler],\n",
    "    verbose=1,\n",
    ")"
   ],
   "metadata": {
    "id": "nPzT8reFJGNG"
   },
   "execution_count": null,
   "outputs": []
  },
  {
   "cell_type": "markdown",
   "source": [
    "### Plotting Training history"
   ],
   "metadata": {
    "id": "tzFK0heZJZ5m"
   }
  },
  {
   "cell_type": "code",
   "source": [
    "def plot_loss_history(training_history, logscale=False):\n",
    "    loss = training_history[\"loss\"]\n",
    "    val_loss = training_history[\"val_loss\"]\n",
    "    epochs = range(1, len(loss) + 1)\n",
    "    plt.plot(epochs, loss, color=\"red\", label=\"Training loss\")\n",
    "    plt.plot(epochs, val_loss, color=\"green\", label=\"Validation loss\")\n",
    "    plt.title(\"Training and validation loss\")\n",
    "    plt.xlabel(\"Epochs\")\n",
    "    plt.ylabel(\"Loss\")\n",
    "    plt.legend()\n",
    "    if logscale:\n",
    "        plt.yscale(\"log\")\n",
    "    plt.show()\n",
    "\n",
    "\n",
    "def plot_accuracy_history(training_history):\n",
    "    acc = training_history[\"accuracy\"]\n",
    "    val_acc = training_history[\"val_accuracy\"]\n",
    "    epochs = range(1, len(acc) + 1)\n",
    "    plt.plot(epochs, acc, color=\"red\", label=\"Training acc\")\n",
    "    plt.plot(epochs, val_acc, color=\"green\", label=\"Validation acc\")\n",
    "    plt.title(\"Training and validation accuracy\")\n",
    "    plt.xlabel(\"Epochs\")\n",
    "    plt.ylabel(\"Accuracy\")\n",
    "    plt.legend()\n",
    "    plt.show()"
   ],
   "metadata": {
    "id": "JBujteSqJMHR"
   },
   "execution_count": null,
   "outputs": []
  },
  {
   "cell_type": "code",
   "source": [
    "plot_accuracy_history(training.history)\n",
    "plot_loss_history(training.history)\n",
    "plot_loss_history(training.history, logscale=True)"
   ],
   "metadata": {
    "id": "tKRhYUsWJQ2A"
   },
   "execution_count": null,
   "outputs": []
  },
  {
   "cell_type": "code",
   "source": [],
   "metadata": {
    "id": "lkyqy1QCPMO0"
   },
   "execution_count": null,
   "outputs": []
  }
 ],
 "metadata": {
  "colab": {
   "provenance": [],
   "collapsed_sections": [],
   "toc_visible": true
  },
  "kernelspec": {
   "display_name": "Python 3.9.7 ('fb')",
   "language": "python",
   "name": "python3"
  },
  "language_info": {
   "codemirror_mode": {
    "name": "ipython",
    "version": 3
   },
   "file_extension": ".py",
   "mimetype": "text/x-python",
   "name": "python",
   "nbconvert_exporter": "python",
   "pygments_lexer": "ipython3",
   "version": "3.9.7"
  },
  "vscode": {
   "interpreter": {
    "hash": "4772248a3d05d5f0c3892fadc37378c682f61ff4fbc029aa3d5c022979cdf227"
   }
  },
  "accelerator": "GPU"
 },
 "nbformat": 4,
 "nbformat_minor": 0
}
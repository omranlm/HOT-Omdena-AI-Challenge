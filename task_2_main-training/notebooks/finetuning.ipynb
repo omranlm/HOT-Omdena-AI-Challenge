{
 "cells": [
  {
   "cell_type": "markdown",
   "metadata": {
    "id": "C05_9RDlyA4I"
   },
   "source": [
    "# Setup"
   ]
  },
  {
   "cell_type": "code",
   "execution_count": null,
   "metadata": {
    "colab": {
     "base_uri": "https://localhost:8080/"
    },
    "id": "301AwWp4xWx2",
    "outputId": "18bc0f09-4de2-48dc-a427-b04505aa566c"
   },
   "outputs": [
    {
     "output_type": "stream",
     "name": "stdout",
     "text": [
      "Mounted at /content/gdrive\n"
     ]
    }
   ],
   "source": [
    "from google.colab import drive\n",
    "\n",
    "drive.mount(\"/content/gdrive\")"
   ]
  },
  {
   "cell_type": "code",
   "execution_count": null,
   "metadata": {
    "id": "YZ9XUiKayiRh"
   },
   "outputs": [],
   "source": [
    "import os\n",
    "import numpy as np\n",
    "\n",
    "from keras.models import Sequential, model_from_json\n",
    "import keras.backend as K\n",
    "from tensorflow.keras.preprocessing.image import load_img\n",
    "\n",
    "\n",
    "import matplotlib.pyplot as plt"
   ]
  },
  {
   "cell_type": "markdown",
   "metadata": {
    "id": "92lgifMaykDF"
   },
   "source": [
    "# Load Model"
   ]
  },
  {
   "cell_type": "code",
   "execution_count": null,
   "metadata": {
    "id": "6F5P0BOjylDD"
   },
   "outputs": [],
   "source": [
    "path_to_load_json = \"/content/gdrive/MyDrive/Omdena/OpenCities/model/model.json\"\n",
    "path_to_load_model = \"/content/gdrive/MyDrive/Omdena/OpenCities/model/model.h5\""
   ]
  },
  {
   "cell_type": "code",
   "execution_count": null,
   "metadata": {
    "colab": {
     "base_uri": "https://localhost:8080/"
    },
    "id": "Cie8L4JPypBX",
    "outputId": "fabfd6d5-4f8b-43ef-caaf-652793dfb7da"
   },
   "outputs": [
    {
     "output_type": "stream",
     "name": "stdout",
     "text": [
      "Loaded model from disk\n"
     ]
    }
   ],
   "source": [
    "# load json and create model\n",
    "json_file = open(path_to_load_json, \"r\")\n",
    "loaded_model_json = json_file.read()\n",
    "json_file.close()\n",
    "loaded_model = model_from_json(loaded_model_json)\n",
    "# load weights into new model\n",
    "loaded_model.load_weights(path_to_load_model)\n",
    "print(\"Loaded model from disk\")"
   ]
  },
  {
   "cell_type": "code",
   "source": [
    "for layer in loaded_model.layers:\n",
    "    layer.trainable = False\n",
    "for layer in loaded_model.layers[-1:]:\n",
    "    layer.trainable = True"
   ],
   "metadata": {
    "id": "2HhBw2e6-bx0"
   },
   "execution_count": null,
   "outputs": []
  },
  {
   "cell_type": "markdown",
   "metadata": {
    "id": "ptaN0aI5y16u"
   },
   "source": [
    "# Define Helper Functions"
   ]
  },
  {
   "cell_type": "code",
   "execution_count": null,
   "metadata": {
    "id": "Ez_QiOzmy3yH"
   },
   "outputs": [],
   "source": [
    "IMAGE_SIZE = 256\n",
    "\n",
    "\n",
    "def open_images(paths):\n",
    "    images = []\n",
    "    for path in paths:\n",
    "        image = load_img(path, target_size=(IMAGE_SIZE, IMAGE_SIZE))\n",
    "        image = np.mean(image, axis=-1) / 255.0\n",
    "        images.append(image)\n",
    "    return np.array(images)"
   ]
  },
  {
   "cell_type": "code",
   "execution_count": null,
   "metadata": {
    "id": "myhLVTuTy-Fz"
   },
   "outputs": [],
   "source": [
    "def datagen(train_img, mask_img, batch_size):\n",
    "    for x in range(0, len(train_img), batch_size=16):\n",
    "        images = open_images(train_img[x : x + batch_size]).reshape(\n",
    "            -1, IMAGE_SIZE, IMAGE_SIZE, 3\n",
    "        )\n",
    "        masks = open_images(mask_img[x : x + batch_size]).reshape(\n",
    "            -1, IMAGE_SIZE, IMAGE_SIZE, 3\n",
    "        )\n",
    "        yield images, masks"
   ]
  },
  {
   "cell_type": "code",
   "execution_count": null,
   "metadata": {
    "id": "AbSgP0qbzCl8"
   },
   "outputs": [],
   "source": [
    "def dice_coef(y_true, y_pred, smooth=1):\n",
    "    y_true_f = K.flatten(y_true)\n",
    "    y_pred_f = K.flatten(y_pred)\n",
    "    intersection = K.sum(y_true_f * y_pred_f)\n",
    "    return (2.0 * intersection + smooth) / (K.sum(y_true_f) + K.sum(y_pred_f) + smooth)"
   ]
  },
  {
   "cell_type": "markdown",
   "metadata": {
    "id": "MLjEoOThzkcw"
   },
   "source": [
    "# Load Hot data"
   ]
  },
  {
   "cell_type": "code",
   "execution_count": null,
   "metadata": {
    "id": "WBAJk2xczj5A"
   },
   "outputs": [],
   "source": [
    "def get_image_paths(path, images=True) -> list:\n",
    "    \"\"\"Returns a list of image or masks paths from a folder\"\"\"\n",
    "    paths = [path + fname for fname in os.listdir(path)]\n",
    "    to_return = []\n",
    "    if images:\n",
    "        png_images = []\n",
    "        for image in paths:\n",
    "            if image.endswith(\".png\"):\n",
    "                png_images.append(image)\n",
    "        to_return = png_images\n",
    "    else:\n",
    "        to_return = paths\n",
    "    return sorted(to_return)"
   ]
  },
  {
   "cell_type": "code",
   "execution_count": null,
   "metadata": {
    "id": "9PW7Qicv2Vsp"
   },
   "outputs": [],
   "source": [
    "images_1 = \"/content/gdrive/MyDrive/Omdena/data/from_hot/1/\"\n",
    "images_2 = \"/content/gdrive/MyDrive/Omdena/data/from_hot/2/\"\n",
    "images_3 = \"/content/gdrive/MyDrive/Omdena/data/from_hot/3/\"\n",
    "images_4 = \"/content/gdrive/MyDrive/Omdena/data/from_hot/4/\"\n",
    "images_5 = \"/content/gdrive/MyDrive/Omdena/data/from_hot/5/\"\n",
    "all_image_paths = (\n",
    "    get_image_paths(images_1)\n",
    "    + get_image_paths(images_2)\n",
    "    + get_image_paths(images_3)\n",
    "    + get_image_paths(images_4)\n",
    "    + get_image_paths(images_5)\n",
    ")"
   ]
  },
  {
   "cell_type": "code",
   "execution_count": null,
   "metadata": {
    "id": "ydpg5MLv3QK5"
   },
   "outputs": [],
   "source": [
    "masks_1 = \"/content/gdrive/MyDrive/Omdena/data/rasterized_labels/1/\"\n",
    "masks_2 = \"/content/gdrive/MyDrive/Omdena/data/rasterized_labels/2/\"\n",
    "masks_3 = \"/content/gdrive/MyDrive/Omdena/data/rasterized_labels/3/\"\n",
    "masks_4 = \"/content/gdrive/MyDrive/Omdena/data/rasterized_labels/4/\"\n",
    "masks_5 = \"/content/gdrive/MyDrive/Omdena/data/rasterized_labels/5/\"\n",
    "all_masks_paths = (\n",
    "    get_image_paths(masks_1, images=False)\n",
    "    + get_image_paths(masks_2, images=False)\n",
    "    + get_image_paths(masks_3, images=False)\n",
    "    + get_image_paths(masks_4, images=False)\n",
    "    + get_image_paths(masks_5, images=False)\n",
    ")"
   ]
  },
  {
   "cell_type": "code",
   "execution_count": null,
   "metadata": {
    "id": "1c_ALRqw3ING"
   },
   "outputs": [],
   "source": [
    "all_image_paths = sorted(all_image_paths)\n",
    "all_masks_paths = sorted(all_masks_paths)"
   ]
  },
  {
   "cell_type": "code",
   "execution_count": null,
   "metadata": {
    "colab": {
     "base_uri": "https://localhost:8080/"
    },
    "id": "uVWoB8lS31oE",
    "outputId": "980dcc29-5eb8-43fc-9c77-c947dbba3f21"
   },
   "outputs": [
    {
     "output_type": "execute_result",
     "data": {
      "text/plain": [
       "['/content/gdrive/MyDrive/Omdena/data/from_hot/1/OAM-319305-270982-19.png',\n",
       " '/content/gdrive/MyDrive/Omdena/data/from_hot/1/OAM-319305-270983-19.png',\n",
       " '/content/gdrive/MyDrive/Omdena/data/from_hot/1/OAM-319305-270984-19.png',\n",
       " '/content/gdrive/MyDrive/Omdena/data/from_hot/1/OAM-319305-270985-19.png',\n",
       " '/content/gdrive/MyDrive/Omdena/data/from_hot/1/OAM-319306-270982-19.png']"
      ]
     },
     "metadata": {},
     "execution_count": 13
    }
   ],
   "source": [
    "all_image_paths[:5]"
   ]
  },
  {
   "cell_type": "code",
   "execution_count": null,
   "metadata": {
    "colab": {
     "base_uri": "https://localhost:8080/"
    },
    "id": "UJOxNgdU38Vd",
    "outputId": "0b083e34-0d1f-4110-df7f-1a692133e079"
   },
   "outputs": [
    {
     "output_type": "execute_result",
     "data": {
      "text/plain": [
       "['/content/gdrive/MyDrive/Omdena/data/rasterized_labels/1/OAM-319305-270982-19-label.png',\n",
       " '/content/gdrive/MyDrive/Omdena/data/rasterized_labels/1/OAM-319305-270983-19-label.png',\n",
       " '/content/gdrive/MyDrive/Omdena/data/rasterized_labels/1/OAM-319305-270984-19-label.png',\n",
       " '/content/gdrive/MyDrive/Omdena/data/rasterized_labels/1/OAM-319305-270985-19-label.png',\n",
       " '/content/gdrive/MyDrive/Omdena/data/rasterized_labels/1/OAM-319306-270982-19-label.png']"
      ]
     },
     "metadata": {},
     "execution_count": 14
    }
   ],
   "source": [
    "all_masks_paths[:5]"
   ]
  },
  {
   "cell_type": "code",
   "execution_count": null,
   "metadata": {
    "id": "o5U-oZCs4Gu8"
   },
   "outputs": [],
   "source": [
    "all_images = open_images(all_image_paths)\n",
    "all_masks = open_images(all_masks_paths)"
   ]
  },
  {
   "cell_type": "markdown",
   "metadata": {
    "id": "6a4LX_7s4Q6p"
   },
   "source": [
    "# Data Augmentation"
   ]
  },
  {
   "cell_type": "code",
   "execution_count": null,
   "metadata": {
    "id": "vrSOV-oU4O1_"
   },
   "outputs": [],
   "source": [
    "import albumentations as A\n",
    "import cv2\n",
    "\n",
    "transform = A.Compose(\n",
    "    [\n",
    "        A.RandomCrop(width=256, height=256),\n",
    "        A.HorizontalFlip(p=0.5),\n",
    "    ]\n",
    ")"
   ]
  },
  {
   "cell_type": "code",
   "execution_count": null,
   "metadata": {
    "id": "gJ32C6yb4Wh6"
   },
   "outputs": [],
   "source": [
    "transformed_images = []\n",
    "transformed_masks = []\n",
    "i = 0\n",
    "for i in range(len(all_images)):\n",
    "    image = all_images[i]\n",
    "    mask = all_masks[i]\n",
    "    transformed = transform(image=image, mask=mask)\n",
    "    transformed_images.append(transformed[\"image\"])\n",
    "    transformed_masks.append(transformed[\"mask\"])"
   ]
  },
  {
   "cell_type": "code",
   "execution_count": null,
   "metadata": {
    "colab": {
     "base_uri": "https://localhost:8080/"
    },
    "id": "IaZRvrgd4Yrq",
    "outputId": "88ce3ce8-cf65-4524-a1d1-ded398a55329"
   },
   "outputs": [
    {
     "output_type": "execute_result",
     "data": {
      "text/plain": [
       "324"
      ]
     },
     "metadata": {},
     "execution_count": 18
    }
   ],
   "source": [
    "all_images = list(all_images)\n",
    "for image in transformed_images:\n",
    "    all_images.append(image)\n",
    "len(all_images)\n",
    "all_masks = list(all_masks)\n",
    "for mask in transformed_masks:\n",
    "    all_masks.append(mask)\n",
    "len(all_masks)"
   ]
  },
  {
   "cell_type": "code",
   "execution_count": null,
   "metadata": {
    "id": "kK6NnhlN4cVX"
   },
   "outputs": [],
   "source": [
    "all_images = np.array(all_images)\n",
    "all_masks = np.array(all_masks)"
   ]
  },
  {
   "cell_type": "markdown",
   "metadata": {
    "id": "acNdU5iT5feB"
   },
   "source": [
    "# Finetune the model"
   ]
  },
  {
   "cell_type": "code",
   "execution_count": null,
   "metadata": {
    "id": "a2O0uVga4m_I"
   },
   "outputs": [],
   "source": [
    "loaded_model.compile(\n",
    "    optimizer=\"adam\", loss=\"binary_crossentropy\", metrics=[dice_coef, \"accuracy\"]\n",
    ")"
   ]
  },
  {
   "cell_type": "code",
   "execution_count": null,
   "metadata": {
    "id": "NOaY5XWH5ihU"
   },
   "outputs": [],
   "source": [
    "from sklearn.model_selection import train_test_split\n",
    "\n",
    "X_train, X_test, y_train, y_test = train_test_split(\n",
    "    all_images.reshape(-1, IMAGE_SIZE, IMAGE_SIZE, 1),\n",
    "    all_masks.reshape(-1, IMAGE_SIZE, IMAGE_SIZE, 1),\n",
    "    test_size=0.25,\n",
    "    random_state=0,\n",
    ")"
   ]
  },
  {
   "cell_type": "code",
   "execution_count": null,
   "metadata": {
    "colab": {
     "base_uri": "https://localhost:8080/"
    },
    "id": "PCeyD9ET6D11",
    "outputId": "6f65cf15-3bfb-4989-f367-46c96d9b8f85"
   },
   "outputs": [
    {
     "output_type": "stream",
     "name": "stdout",
     "text": [
      "Epoch 1/30\n",
      "16/16 [==============================] - 12s 108ms/step - loss: 0.4398 - dice_coef: 0.4784 - accuracy: 0.8488 - val_loss: 0.4048 - val_dice_coef: 0.3960 - val_accuracy: 0.8597\n",
      "Epoch 2/30\n",
      "16/16 [==============================] - 1s 37ms/step - loss: 0.4326 - dice_coef: 0.4863 - accuracy: 0.8490 - val_loss: 0.3970 - val_dice_coef: 0.3942 - val_accuracy: 0.8601\n",
      "Epoch 3/30\n",
      "16/16 [==============================] - 1s 38ms/step - loss: 0.4242 - dice_coef: 0.4897 - accuracy: 0.8497 - val_loss: 0.3893 - val_dice_coef: 0.3924 - val_accuracy: 0.8605\n",
      "Epoch 4/30\n",
      "16/16 [==============================] - 1s 37ms/step - loss: 0.4135 - dice_coef: 0.5003 - accuracy: 0.8506 - val_loss: 0.3823 - val_dice_coef: 0.3906 - val_accuracy: 0.8609\n",
      "Epoch 5/30\n",
      "16/16 [==============================] - 1s 37ms/step - loss: 0.4101 - dice_coef: 0.4960 - accuracy: 0.8497 - val_loss: 0.3752 - val_dice_coef: 0.3885 - val_accuracy: 0.8612\n",
      "Epoch 6/30\n",
      "16/16 [==============================] - 1s 37ms/step - loss: 0.3999 - dice_coef: 0.4777 - accuracy: 0.8505 - val_loss: 0.3684 - val_dice_coef: 0.3864 - val_accuracy: 0.8616\n",
      "Epoch 7/30\n",
      "16/16 [==============================] - 1s 39ms/step - loss: 0.3922 - dice_coef: 0.4837 - accuracy: 0.8519 - val_loss: 0.3617 - val_dice_coef: 0.3843 - val_accuracy: 0.8621\n",
      "Epoch 8/30\n",
      "16/16 [==============================] - 1s 38ms/step - loss: 0.3880 - dice_coef: 0.4815 - accuracy: 0.8516 - val_loss: 0.3555 - val_dice_coef: 0.3820 - val_accuracy: 0.8625\n",
      "Epoch 9/30\n",
      "16/16 [==============================] - 1s 38ms/step - loss: 0.3793 - dice_coef: 0.4819 - accuracy: 0.8529 - val_loss: 0.3488 - val_dice_coef: 0.3794 - val_accuracy: 0.8630\n",
      "Epoch 10/30\n",
      "16/16 [==============================] - 1s 37ms/step - loss: 0.3714 - dice_coef: 0.4722 - accuracy: 0.8526 - val_loss: 0.3428 - val_dice_coef: 0.3769 - val_accuracy: 0.8635\n",
      "Epoch 11/30\n",
      "16/16 [==============================] - 1s 37ms/step - loss: 0.3662 - dice_coef: 0.4581 - accuracy: 0.8532 - val_loss: 0.3366 - val_dice_coef: 0.3740 - val_accuracy: 0.8640\n",
      "Epoch 12/30\n",
      "16/16 [==============================] - 1s 38ms/step - loss: 0.3604 - dice_coef: 0.4618 - accuracy: 0.8538 - val_loss: 0.3306 - val_dice_coef: 0.3710 - val_accuracy: 0.8646\n",
      "Epoch 13/30\n",
      "16/16 [==============================] - 1s 38ms/step - loss: 0.3543 - dice_coef: 0.4564 - accuracy: 0.8546 - val_loss: 0.3257 - val_dice_coef: 0.3682 - val_accuracy: 0.8651\n",
      "Epoch 14/30\n",
      "16/16 [==============================] - 1s 38ms/step - loss: 0.3490 - dice_coef: 0.4614 - accuracy: 0.8550 - val_loss: 0.3206 - val_dice_coef: 0.3652 - val_accuracy: 0.8656\n",
      "Epoch 15/30\n",
      "16/16 [==============================] - 1s 37ms/step - loss: 0.3441 - dice_coef: 0.4556 - accuracy: 0.8552 - val_loss: 0.3161 - val_dice_coef: 0.3622 - val_accuracy: 0.8662\n",
      "Epoch 16/30\n",
      "16/16 [==============================] - 1s 37ms/step - loss: 0.3386 - dice_coef: 0.4543 - accuracy: 0.8560 - val_loss: 0.3117 - val_dice_coef: 0.3590 - val_accuracy: 0.8668\n",
      "Epoch 17/30\n",
      "16/16 [==============================] - 1s 37ms/step - loss: 0.3357 - dice_coef: 0.4430 - accuracy: 0.8562 - val_loss: 0.3076 - val_dice_coef: 0.3558 - val_accuracy: 0.8674\n",
      "Epoch 18/30\n",
      "16/16 [==============================] - 1s 38ms/step - loss: 0.3307 - dice_coef: 0.4417 - accuracy: 0.8568 - val_loss: 0.3039 - val_dice_coef: 0.3526 - val_accuracy: 0.8681\n",
      "Epoch 19/30\n",
      "16/16 [==============================] - 1s 38ms/step - loss: 0.3265 - dice_coef: 0.4370 - accuracy: 0.8588 - val_loss: 0.3003 - val_dice_coef: 0.3493 - val_accuracy: 0.8687\n",
      "Epoch 20/30\n",
      "16/16 [==============================] - 1s 38ms/step - loss: 0.3229 - dice_coef: 0.4288 - accuracy: 0.8588 - val_loss: 0.2970 - val_dice_coef: 0.3459 - val_accuracy: 0.8694\n",
      "Epoch 21/30\n",
      "16/16 [==============================] - 1s 38ms/step - loss: 0.3196 - dice_coef: 0.4213 - accuracy: 0.8604 - val_loss: 0.2937 - val_dice_coef: 0.3422 - val_accuracy: 0.8703\n",
      "Epoch 22/30\n",
      "16/16 [==============================] - 1s 38ms/step - loss: 0.3163 - dice_coef: 0.4112 - accuracy: 0.8603 - val_loss: 0.2908 - val_dice_coef: 0.3386 - val_accuracy: 0.8711\n",
      "Epoch 23/30\n",
      "16/16 [==============================] - 1s 38ms/step - loss: 0.3133 - dice_coef: 0.4098 - accuracy: 0.8609 - val_loss: 0.2880 - val_dice_coef: 0.3348 - val_accuracy: 0.8720\n",
      "Epoch 24/30\n",
      "16/16 [==============================] - 1s 38ms/step - loss: 0.3103 - dice_coef: 0.4104 - accuracy: 0.8620 - val_loss: 0.2857 - val_dice_coef: 0.3312 - val_accuracy: 0.8728\n",
      "Epoch 25/30\n",
      "16/16 [==============================] - 1s 37ms/step - loss: 0.3083 - dice_coef: 0.4146 - accuracy: 0.8626 - val_loss: 0.2833 - val_dice_coef: 0.3273 - val_accuracy: 0.8737\n",
      "Epoch 26/30\n",
      "16/16 [==============================] - 1s 38ms/step - loss: 0.3060 - dice_coef: 0.4116 - accuracy: 0.8635 - val_loss: 0.2816 - val_dice_coef: 0.3241 - val_accuracy: 0.8743\n",
      "Epoch 27/30\n",
      "16/16 [==============================] - 1s 37ms/step - loss: 0.3049 - dice_coef: 0.4019 - accuracy: 0.8645 - val_loss: 0.2801 - val_dice_coef: 0.3211 - val_accuracy: 0.8749\n",
      "Epoch 28/30\n",
      "16/16 [==============================] - 1s 37ms/step - loss: 0.3021 - dice_coef: 0.3889 - accuracy: 0.8644 - val_loss: 0.2788 - val_dice_coef: 0.3182 - val_accuracy: 0.8756\n",
      "Epoch 29/30\n",
      "16/16 [==============================] - 1s 38ms/step - loss: 0.3028 - dice_coef: 0.3953 - accuracy: 0.8652 - val_loss: 0.2775 - val_dice_coef: 0.3149 - val_accuracy: 0.8763\n",
      "Epoch 30/30\n",
      "16/16 [==============================] - 1s 37ms/step - loss: 0.3013 - dice_coef: 0.3853 - accuracy: 0.8657 - val_loss: 0.2762 - val_dice_coef: 0.3116 - val_accuracy: 0.8771\n"
     ]
    }
   ],
   "source": [
    "history = loaded_model.fit(\n",
    "    X_train, y_train, validation_data=[X_test, y_test], batch_size=16, epochs=30\n",
    ")"
   ]
  },
  {
   "cell_type": "markdown",
   "source": [
    "# plot Learning Curves"
   ],
   "metadata": {
    "id": "ZUKF4yg9-8Lb"
   }
  },
  {
   "cell_type": "code",
   "source": [
    "plt.plot(history.history[\"dice_coef\"])\n",
    "plt.plot(history.history[\"val_dice_coef\"])\n",
    "plt.title(\"dice coefficient\")\n",
    "plt.ylabel(\"dice\")\n",
    "plt.xlabel(\"epoch\")\n",
    "plt.legend([\"train\", \"test\"], loc=\"upper left\")\n",
    "plt.show()"
   ],
   "metadata": {
    "colab": {
     "base_uri": "https://localhost:8080/",
     "height": 295
    },
    "id": "-ABOZ_cJ-33V",
    "outputId": "2476c1b1-de9f-4f78-d91b-5534930705f3"
   },
   "execution_count": null,
   "outputs": [
    {
     "output_type": "display_data",
     "data": {
      "text/plain": [
       "<Figure size 432x288 with 1 Axes>"
      ],
      "image/png": "[encoded data removed]"
     },
     "metadata": {
      "needs_background": "light"
     }
    }
   ]
  },
  {
   "cell_type": "code",
   "source": [
    "plt.plot(history.history[\"accuracy\"])\n",
    "plt.plot(history.history[\"val_accuracy\"])\n",
    "plt.title(\"accuracy\")\n",
    "plt.ylabel(\"accuracy\")\n",
    "plt.xlabel(\"epoch\")\n",
    "plt.legend([\"train\", \"test\"], loc=\"upper left\")\n",
    "plt.show()"
   ],
   "metadata": {
    "colab": {
     "base_uri": "https://localhost:8080/",
     "height": 295
    },
    "id": "OKP3eN5H-4o2",
    "outputId": "918b535c-bc30-4e22-ee6d-2f6b4adcfd7b"
   },
   "execution_count": null,
   "outputs": [
    {
     "output_type": "display_data",
     "data": {
      "text/plain": [
       "<Figure size 432x288 with 1 Axes>"
      ],
      "image/png": "[encoded data removed]"
     },
     "metadata": {
      "needs_background": "light"
     }
    }
   ]
  }
 ],
 "metadata": {
  "accelerator": "GPU",
  "colab": {
   "provenance": [],
   "collapsed_sections": [],
   "toc_visible": true
  },
  "kernelspec": {
   "display_name": "Python 3",
   "name": "python3"
  },
  "language_info": {
   "name": "python"
  }
 },
 "nbformat": 4,
 "nbformat_minor": 0
}
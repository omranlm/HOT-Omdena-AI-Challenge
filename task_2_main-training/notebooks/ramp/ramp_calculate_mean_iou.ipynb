{
 "cells": [
  {
   "cell_type": "markdown",
   "metadata": {
    "id": "C05_9RDlyA4I"
   },
   "source": [
    "# Setup"
   ]
  },
  {
   "cell_type": "code",
   "execution_count": 20,
   "metadata": {
    "id": "YZ9XUiKayiRh"
   },
   "outputs": [],
   "source": [
    "import os\n",
    "import numpy as np\n",
    "\n",
    "import matplotlib.pyplot as plt\n",
    "import glob\n",
    "import cv2\n",
    "import pickle\n",
    "from keras.models import Model\n",
    "from keras.applications.vgg16 import VGG16\n",
    "from tensorflow.keras.preprocessing.image import img_to_array"
   ]
  },
  {
   "cell_type": "markdown",
   "metadata": {},
   "source": [
    "# Load Data"
   ]
  },
  {
   "cell_type": "code",
   "execution_count": 46,
   "metadata": {
    "id": "9PW7Qicv2Vsp"
   },
   "outputs": [],
   "source": [
    "\n",
    "predicted_chips = glob.glob(\"/content/drive/MyDrive/Omdena/RAMP_HOME/ramp-data/TRAIN/HOTOSM/4/val-labels-predicted3/*.tif\")\n",
    "predicted_chips.sort()\n",
    "\n",
    "predicted_img = [cv2.imread(image, 1) for image in predicted_chips]\n",
    "predicted_dataset = np.array(predicted_img)    "
   ]
  },
  {
   "cell_type": "code",
   "execution_count": 47,
   "metadata": {
    "id": "ydpg5MLv3QK5"
   },
   "outputs": [],
   "source": [
    "  \n",
    "training_mask = glob.glob(\"/content/drive/MyDrive/Omdena/RAMP_HOME/ramp-data/TRAIN/HOTOSM/4/val-binarymasks/*.tif\")\n",
    "training_mask.sort()\n",
    "\n",
    "masks = [cv2.imread(mask, 0) for mask in training_mask]\n",
    "mask_dataset = np.array(masks)    "
   ]
  },
  {
   "cell_type": "code",
   "execution_count": 48,
   "metadata": {
    "id": "1c_ALRqw3ING"
   },
   "outputs": [
    {
     "name": "stdout",
     "output_type": "stream",
     "text": [
      "Total images in the predicted dataset are:  12\n",
      "Total images in the mask dataset are:  12\n",
      "Predicted data shape is:  (12, 256, 256, 3)\n",
      "Mask data shape is:  (12, 256, 256)\n",
      "Labels in predicted is:  [0 1]\n",
      "Labels in the mask are :  [0 1]\n"
     ]
    }
   ],
   "source": [
    "print(\"Total images in the predicted dataset are: \", len(predicted_dataset))\n",
    "print(\"Total images in the mask dataset are: \", len(mask_dataset))\n",
    "print(\"Predicted data shape is: \", predicted_dataset.shape)\n",
    "print(\"Mask data shape is: \", mask_dataset.shape)\n",
    "print(\"Labels in predicted is: \", np.unique(predicted_dataset))\n",
    "print(\"Labels in the mask are : \", np.unique(mask_dataset))"
   ]
  },
  {
   "cell_type": "code",
   "execution_count": 49,
   "metadata": {},
   "outputs": [
    {
     "name": "stdout",
     "output_type": "stream",
     "text": [
      "(12, 256, 256)\n"
     ]
    }
   ],
   "source": [
    "print(mask_dataset.shape)"
   ]
  },
  {
   "cell_type": "code",
   "execution_count": 50,
   "metadata": {},
   "outputs": [
    {
     "name": "stdout",
     "output_type": "stream",
     "text": [
      "(786432,)\n"
     ]
    }
   ],
   "source": [
    "y_test = mask_dataset.reshape(-1)\n",
    "print(y_test.shape)"
   ]
  },
  {
   "cell_type": "code",
   "execution_count": 51,
   "metadata": {},
   "outputs": [
    {
     "name": "stdout",
     "output_type": "stream",
     "text": [
      "(12, 256, 256, 3)\n"
     ]
    }
   ],
   "source": [
    "print(predicted_dataset.shape)"
   ]
  },
  {
   "cell_type": "code",
   "execution_count": 52,
   "metadata": {},
   "outputs": [
    {
     "name": "stdout",
     "output_type": "stream",
     "text": [
      "(12, 256, 256)\n"
     ]
    }
   ],
   "source": [
    "predicted_dataset = predicted_dataset[:,:,:,0]\n",
    "print(predicted_dataset.shape)"
   ]
  },
  {
   "cell_type": "code",
   "execution_count": 53,
   "metadata": {},
   "outputs": [
    {
     "name": "stdout",
     "output_type": "stream",
     "text": [
      "(786432,)\n"
     ]
    }
   ],
   "source": [
    "y_pred = predicted_dataset.reshape(-1)\n",
    "print(y_pred.shape)"
   ]
  },
  {
   "cell_type": "code",
   "execution_count": 54,
   "metadata": {
    "colab": {
     "base_uri": "https://localhost:8080/"
    },
    "id": "uVWoB8lS31oE",
    "outputId": "980dcc29-5eb8-43fc-9c77-c947dbba3f21"
   },
   "outputs": [
    {
     "data": {
      "text/plain": [
       "<AxesSubplot:>"
      ]
     },
     "execution_count": 54,
     "metadata": {},
     "output_type": "execute_result"
    },
    {
     "data": {
      "image/png": "[encoded data removed]",
      "text/plain": [
       "<Figure size 432x288 with 2 Axes>"
      ]
     },
     "metadata": {
      "needs_background": "light"
     },
     "output_type": "display_data"
    }
   ],
   "source": [
    "from sklearn.metrics import confusion_matrix\n",
    "import seaborn as sns\n",
    "\n",
    "cm = confusion_matrix(y_test, y_pred)\n",
    "# print(cm)\n",
    "sns.heatmap(cm, annot=True)"
   ]
  },
  {
   "cell_type": "code",
   "execution_count": 55,
   "metadata": {},
   "outputs": [
    {
     "name": "stdout",
     "output_type": "stream",
     "text": [
      "Accuracy =  0.94921875\n"
     ]
    }
   ],
   "source": [
    "from sklearn import metrics\n",
    "\n",
    "print(\"Accuracy = \", metrics.accuracy_score(y_test, y_pred))"
   ]
  },
  {
   "cell_type": "code",
   "execution_count": 56,
   "metadata": {},
   "outputs": [
    {
     "name": "stdout",
     "output_type": "stream",
     "text": [
      "Mean IoU = 0.8895243\n"
     ]
    }
   ],
   "source": [
    "from keras.metrics import MeanIoU\n",
    "\n",
    "# Using built in keras function\n",
    "\n",
    "n_classes = 2\n",
    "IOU_keras = MeanIoU(num_classes=n_classes)\n",
    "IOU_keras.update_state(y_test, y_pred)\n",
    "print(\"Mean IoU =\", IOU_keras.result().numpy())"
   ]
  },
  {
   "cell_type": "code",
   "execution_count": null,
   "metadata": {},
   "outputs": [],
   "source": []
  }
 ],
 "metadata": {
  "accelerator": "GPU",
  "colab": {
   "collapsed_sections": [],
   "provenance": [],
   "toc_visible": true
  },
  "kernelspec": {
   "display_name": "Python 3",
   "language": "python",
   "name": "python3"
  },
  "language_info": {
   "codemirror_mode": {
    "name": "ipython",
    "version": 3
   },
   "file_extension": ".py",
   "mimetype": "text/x-python",
   "name": "python",
   "nbconvert_exporter": "python",
   "pygments_lexer": "ipython3",
   "version": "3.7.15"
  }
 },
 "nbformat": 4,
 "nbformat_minor": 4
}

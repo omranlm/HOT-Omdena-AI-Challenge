{
 "cells": [
  {
   "cell_type": "markdown",
   "metadata": {
    "id": "vPso-4ZpiJKL"
   },
   "source": [
    "# Ramp Data Preparation \n",
    "\n",
    "This notebook is intended to run you through the steps to prepare data for use in ramp, the notebook is to be placed under RAMP_HOME/ramp-code/colab"
   ]
  },
  {
   "cell_type": "code",
   "execution_count": 2,
   "metadata": {
    "colab": {
     "base_uri": "https://localhost:8080/"
    },
    "executionInfo": {
     "elapsed": 7,
     "status": "ok",
     "timestamp": 1668359711759,
     "user": {
      "displayName": "Shaimaa Hegazy",
      "userId": "13437446668425938150"
     },
     "user_tz": 300
    },
    "id": "aP5-2KhhiJKW",
    "outputId": "4ecb2628-5c3e-410e-8e6f-a6f70871b7d8"
   },
   "outputs": [
    {
     "name": "stdout",
     "output_type": "stream",
     "text": [
      "env: RAMP_HOME=/content/drive/MyDrive/Omdena/RAMP_HOME\n"
     ]
    }
   ],
   "source": [
    "%env RAMP_HOME=/content/drive/MyDrive/Omdena/RAMP_HOME"
   ]
  },
  {
   "cell_type": "code",
   "execution_count": 3,
   "metadata": {},
   "outputs": [
    {
     "data": {
      "application/vnd.google.colaboratory.intrinsic+json": {
       "type": "string"
      },
      "text/plain": [
       "'/content/drive/MyDrive/Omdena/RAMP_HOME'"
      ]
     },
     "execution_count": 3,
     "metadata": {},
     "output_type": "execute_result"
    }
   ],
   "source": [
    "import os, sys\n",
    "from pathlib import Path\n",
    "\n",
    "RAMP_HOME = os.environ[\"RAMP_HOME\"]\n",
    "\n",
    "sys.path.append(\"..\")\n",
    "os.chdir(Path(RAMP_HOME))\n",
    "# output current working directory.\n",
    "# Note: the current working directory for this tutorial should be 'RAMP_HOME.'\n",
    "os.getcwd()"
   ]
  },
  {
   "cell_type": "code",
   "execution_count": 5,
   "metadata": {},
   "outputs": [
    {
     "name": "stderr",
     "output_type": "stream",
     "text": [
      "Writing 5_hotlib3_split_train.csv\n",
      "Writing 5_hotlib3_split_train.csv\n",
      "Writing 5_hotlib3_split_train.csv\n",
      "Writing 5_hotlib3_split_train.csv\n",
      "Writing 5_hotlib3_split_train.csv\n",
      "INFO:__main__:Writing 5_hotlib3_split_train.csv\n",
      "Writing 5_hotlib3_split_val.csv\n",
      "Writing 5_hotlib3_split_val.csv\n",
      "Writing 5_hotlib3_split_val.csv\n",
      "Writing 5_hotlib3_split_val.csv\n",
      "Writing 5_hotlib3_split_val.csv\n",
      "INFO:__main__:Writing 5_hotlib3_split_val.csv\n"
     ]
    }
   ],
   "source": [
    "#SPLIT INTO TRAINING AND VALIDATION \n",
    "#example given for region 5\n",
    "\n",
    "%run ramp-code/scripts/make_train_val_split_lists.py -src ramp-data/TRAIN/HOTOSM2/5/chips -pfx 5_hotlib3_split -trn 0.85 -val 0.15\n"
   ]
  },
  {
   "cell_type": "code",
   "execution_count": 6,
   "metadata": {
    "id": "myxmmsDGiJKa",
    "outputId": "95c6f789-3f67-4440-c959-38c340be2aac"
   },
   "outputs": [],
   "source": [
    "#move all the VALIDATION chips, labels and masks to their new locations\n",
    "\n",
    "%run ramp-code/scripts/move_chips_from_csv.py -sd ramp-data/TRAIN/HOTOSM2/5/chips -td ramp-data/TRAIN/HOTOSM2/5/val-chips -csv 5_hotlib3_split_val.csv -mv\n",
    "\n",
    "%run ramp-code/scripts/move_chips_from_csv.py -sd ramp-data/TRAIN/HOTOSM2/5/labels -td ramp-data/TRAIN/HOTOSM2/5/val-labels -csv 5_hotlib3_split_val.csv -mv\n",
    "\n",
    "%run ramp-code/scripts/move_chips_from_csv.py -sd ramp-data/TRAIN/HOTOSM2/5/binarymasks -td ramp-data/TRAIN/HOTOSM2/5/val-binarymasks -csv 5_hotlib3_split_val.csv -mv\n"
   ]
  },
  {
   "cell_type": "code",
   "execution_count": null,
   "metadata": {},
   "outputs": [],
   "source": []
  },
  {
   "cell_type": "code",
   "execution_count": null,
   "metadata": {},
   "outputs": [],
   "source": []
  }
 ],
 "metadata": {
  "colab": {
   "provenance": []
  },
  "kernelspec": {
   "display_name": "Python 3 (ipykernel)",
   "language": "python",
   "name": "python3"
  },
  "language_info": {
   "codemirror_mode": {
    "name": "ipython",
    "version": 3
   },
   "file_extension": ".py",
   "mimetype": "text/x-python",
   "name": "python",
   "nbconvert_exporter": "python",
   "pygments_lexer": "ipython3",
   "version": "3.9.13"
  },
  "vscode": {
   "interpreter": {
    "hash": "31f2aee4e71d21fbe5cf8b01ff0e069b9275f58929596ceb00d14d90e3e16cd6"
   }
  }
 },
 "nbformat": 4,
 "nbformat_minor": 4
}

{
 "cells": [
  {
   "cell_type": "markdown",
   "metadata": {
    "id": "vPso-4ZpiJKL"
   },
   "source": [
    "# Ramp training tutorial for [Google Colab](https://colab.research.google.com/)\n",
    "\n",
    "This notebook is intended to run you through the ramp training process in the Colab environment, explain what's going on at every stage, and help you understand what's in a training configuration file. \n",
    "\n",
    "We'll start by importing python dependencies, including functions needed from the ramp codebase."
   ]
  },
  {
   "cell_type": "code",
   "execution_count": 1,
   "metadata": {
    "id": "aP5-2KhhiJKW",
    "outputId": "9b612a4d-27eb-4fb6-c4b3-44a62132806e"
   },
   "outputs": [
    {
     "name": "stdout",
     "output_type": "stream",
     "text": [
      "env: RAMP_HOME=/content/drive/MyDrive/Omdena/RAMP_HOME\n"
     ]
    }
   ],
   "source": [
    "%env RAMP_HOME=/content/drive/MyDrive/Omdena/RAMP_HOME"
   ]
  },
  {
   "cell_type": "code",
   "execution_count": 2,
   "metadata": {
    "id": "myxmmsDGiJKa",
    "outputId": "95c6f789-3f67-4440-c959-38c340be2aac"
   },
   "outputs": [
    {
     "data": {
      "application/vnd.google.colaboratory.intrinsic+json": {
       "type": "string"
      },
      "text/plain": [
       "'/content/drive/MyDrive/Omdena/RAMP_HOME/ramp-code/colab'"
      ]
     },
     "execution_count": 2,
     "metadata": {},
     "output_type": "execute_result"
    }
   ],
   "source": [
    "import os, sys\n",
    "sys.path.append(\"..\")\n",
    "\n",
    "# output current working directory.\n",
    "# Note: the current working directory for this tutorial should be 'colab.'\n",
    "os.getcwd()"
   ]
  },
  {
   "cell_type": "code",
   "execution_count": 3,
   "metadata": {
    "id": "NaoDe3eIiJKb",
    "outputId": "5b24a378-886d-414e-a1de-79423b6498ef"
   },
   "outputs": [
    {
     "data": {
      "application/vnd.google.colaboratory.intrinsic+json": {
       "type": "string"
      },
      "text/plain": [
       "'2.9.2'"
      ]
     },
     "execution_count": 3,
     "metadata": {},
     "output_type": "execute_result"
    }
   ],
   "source": [
    "import tensorflow as tf\n",
    "tf.__version__"
   ]
  },
  {
   "cell_type": "code",
   "execution_count": 4,
   "metadata": {
    "id": "QY-5oLa3iJKc",
    "outputId": "53f52e18-c33a-4ab8-f036-188a4f16a85e"
   },
   "outputs": [
    {
     "name": "stdout",
     "output_type": "stream",
     "text": [
      "Segmentation Models: using `keras` framework.\n"
     ]
    }
   ],
   "source": [
    "import os, sys\n",
    "from pathlib import Path\n",
    "import numpy as np\n",
    "import argparse\n",
    "import tensorflow as tf\n",
    "from tensorflow import keras\n",
    "import datetime\n",
    "import random\n",
    "import json\n",
    "import keras.backend as K\n",
    "from time import perf_counter\n",
    "\n",
    "# Note: this suppresses warning and other less urgent messages,\n",
    "# and only allows errors to be printed.\n",
    "# Comment this out if you are having mysterious problems, so you can see all messages.\n",
    "os.environ['TF_CPP_MIN_LOG_LEVEL'] = '3'\n",
    "\n",
    "# this variable must be defined. It is the parent of the 'ramp-code' directory.\n",
    "RAMP_HOME = os.environ[\"RAMP_HOME\"]\n",
    "\n",
    "# import ramp dependencies.\n",
    "from ramp.training.augmentation_constructors import get_augmentation_fn \n",
    "from ramp.training import callback_constructors\n",
    "from ramp.training import model_constructors\n",
    "from ramp.training import optimizer_constructors\n",
    "from ramp.training import metric_constructors\n",
    "from ramp.training import loss_constructors\n",
    "\n",
    "from ramp.data_mgmt.data_generator import training_batches_from_gtiff_dirs, test_batches_from_gtiff_dirs\n",
    "from ramp.utils.misc_ramp_utils import log_experiment_to_file, get_num_files\n",
    "from ramp.models.effunet_1 import get_effunet\n",
    "from ramp.utils.model_utils import get_best_model_value_and_epoch\n",
    "import ramp.utils.log_fields as lf\n",
    "\n",
    "import segmentation_models as sm\n",
    "sm.set_framework('tf.keras')"
   ]
  },
  {
   "cell_type": "markdown",
   "metadata": {
    "id": "HQsHjWlUiJKi"
   },
   "source": [
    "### The training configuration file\n",
    "\n",
    "Training runs are defined using json configuration files, which specify training datasets, training options, and hyperparameter choices. Sample config files are in the 'experiments' subdirectory of the codebase, organized in folders according to the training datasets specified.\n",
    "\n",
    "At the top level, the config file contains the following blocks:\n",
    "- *experiment_name*: simple, descriptive name for your own use\n",
    "- *discard_experiment*: set to 'true' if this is a test run that you don't want to keep any record of\n",
    "- *logging*: whether to log the experiment to a csv file, and what fields to log\n",
    "- *datasets*: directories where training and validation datasets are stored\n",
    "- *num_classes*: 2 for binary masks, 4 for multichannel masks\n",
    "- *num_epochs*: number of cycles for the training run. Overridden if using early stopping. \n",
    "- *batch_size*: number of samples per 'batch'. Smaller batches are needed for smaller gpus. Larger batches stabilize the training metrics, and result in fewer iterations and shorter training times.\n",
    "- *input_img_shape*: (H,W) of the input images.\n",
    "- *output_img_shape*: (H,W) of output masks. \n",
    "- *loss*: the loss function to use in training, and any parameters to use in its construction.\n",
    "- *metrics*: the accuracy functions to track during training, and parameters to use in their construction.\n",
    "- *optimizer*: choice of optimizer to use in training, and optimizer parameters. \n",
    "- *model*: choice of model to use in training (currently just EfficientUnet), and parameters to use in its construction, including the variety of EfficientNet to use for the encoder. \n",
    "- *saved_model*: whether to resume training from a saved model, and if so, the location of the saved model.  \n",
    "- *augmentation*: whether to use image augmentation (e.g., random rotations, random changes in color) to regularize training. If so, which augmentations to apply, and parameters needed to construct them. \n",
    "- *early_stopping*: whether to use early stopping, and parameters needed to define early stopping rules. \n",
    "- *cyclic_learning_scheduler*: whether to use a cyclic learning scheduler (generally no unless you're a power user), and parameters needed to construct one.\n",
    "- *tensorboard*: whether to log training metrics in tensorboard (always yes), with what frequency, and where to store logs.\n",
    "- *prediction_logging*: whether to log prediction samples in tensorboard (yes).\n",
    "- *model_checkpts*: whether to save 'best models' during training (always yes), and to where.\n",
    "- *random_seed*: an integer to use for the random seed, for reproducibility of results. \n",
    "\n"
   ]
  },
  {
   "cell_type": "markdown",
   "metadata": {
    "id": "OsLwkNEPiJKk"
   },
   "source": [
    "### Read in the configuration file\n",
    "\n",
    "This code block reads in a sample file. Change this to your own configuration file when you're doing a training run. "
   ]
  },
  {
   "cell_type": "code",
   "execution_count": 5,
   "metadata": {
    "id": "sXT3XC1tiJKl"
   },
   "outputs": [],
   "source": [
    "#specify dataset number (1,2,3,4 or 5)\n",
    "dataset = 2\n",
    "config_filepath = Path(RAMP_HOME)/f\"ramp-code/data/ramp_HOTOSM_config_finetune_{dataset}.json\"          #\"ramp-code/data/sample_config.json\"\n",
    "\n",
    "with open(str(config_filepath)) as jf:\n",
    "        cfg = json.load(jf)"
   ]
  },
  {
   "cell_type": "markdown",
   "metadata": {
    "id": "tXEsdMg9iJLP"
   },
   "source": [
    "# Running the RAMP training code\n",
    "\n",
    "Now that we know what's in the configuration file, we'll walk through the steps of setting up the training and running it.  \n",
    "\n",
    "\n",
    "### Step 0: unzip the tiny training data sample.\n",
    "\n",
    "This example uses an extremely small dataset of 32 training chips and 16 validation chips that is included with the codebase. The first step is to unzip it, if it isn't already unzipped.\n",
    "\n"
   ]
  },
  {
   "cell_type": "code",
   "execution_count": 31,
   "metadata": {
    "id": "9wV1gfTjiJLP"
   },
   "outputs": [],
   "source": [
    "\n",
    "#zipfilepath = Path(RAMP_HOME)/\"ramp-code/data/HOTOSM.zip\"\n",
    "#target_dir = Path(RAMP_HOME)/\"ramp-data/TRAIN\"\n",
    "#from zipfile import ZipFile\n",
    "\n",
    "#with ZipFile(str(zipfilepath), 'r') as zipObj:\n",
    "#   zipObj.extractall(path=str(target_dir))\n",
    "\n"
   ]
  },
  {
   "cell_type": "markdown",
   "metadata": {
    "id": "nwdgWw2ziJLP"
   },
   "source": [
    "\n",
    "\n",
    "### Step 1: Check your GPU setup and access.\n",
    "\n",
    "Before you begin training, you'll want to check whether Tensorflow has access to your GPU to run training. The code below helps you diagnose problems.\n",
    "\n",
    "Below, we directly check Tensorflow access to the GPUs.\n",
    "You should see as many PhysicalDevice listings as you have GPUs."
   ]
  },
  {
   "cell_type": "code",
   "execution_count": 6,
   "metadata": {
    "id": "QVFEgEIHiJLQ",
    "outputId": "d3d9b97b-029f-4978-a6a0-5928b7cc060a"
   },
   "outputs": [
    {
     "data": {
      "text/plain": [
       "[PhysicalDevice(name='/physical_device:GPU:0', device_type='GPU')]"
      ]
     },
     "execution_count": 6,
     "metadata": {},
     "output_type": "execute_result"
    }
   ],
   "source": [
    "tf.config.list_physical_devices('GPU') "
   ]
  },
  {
   "cell_type": "markdown",
   "metadata": {
    "id": "JkMjz3bIiJLQ"
   },
   "source": [
    "Set up, or disable, logging to Tensorboard and the experiment log. \n",
    "\n",
    "Set the timestamp for the current experiment, and add it to the training run configuration."
   ]
  },
  {
   "cell_type": "code",
   "execution_count": 7,
   "metadata": {
    "id": "er81bjNViJLQ"
   },
   "outputs": [],
   "source": [
    "discard_experiment = False\n",
    "if \"discard_experiment\" in cfg:\n",
    "    discard_experiment = cfg[\"discard_experiment\"]\n",
    "    \n",
    "cfg[\"timestamp\"] = datetime.datetime.now().strftime(\"%Y%m%d-%H%M%S\")"
   ]
  },
  {
   "cell_type": "markdown",
   "metadata": {
    "id": "O-DAwPUGiJLQ"
   },
   "source": [
    "\n",
    "## Steps 2-5: specifying and compiling the building detection model.\n",
    "\n",
    "### Step 2: Construct the loss function for the training run.\n",
    "\n",
    "The user must specify a single loss function for the training run.\n",
    "\n",
    "To do this, the user specifies a function from the *loss_constructors* module that will be used to construct the loss function. This is necessary because constructing the loss function will frequently require additional parameters to be passed in; for example, a weighted loss function (for example, one that penalizes incorrect boundary pixels more heavily than incorrect background pixels) will need the class weights to be passed in at the time of its construction. These weights must also be defined in the configuration file.\n",
    "\n",
    "This method of constructing a function dynamically is used repeatedly in the ramp code, as you'll see."
   ]
  },
  {
   "cell_type": "code",
   "execution_count": 8,
   "metadata": {
    "id": "QcwQmzD9iJLR",
    "outputId": "90b08bc5-89a9-4121-a3df-9dce141ac553"
   },
   "outputs": [
    {
     "name": "stdout",
     "output_type": "stream",
     "text": [
      "Loss function constructor: get_sparse_categorical_crossentropy_fn\n",
      "Loss function: sparse_categorical_crossentropy\n"
     ]
    }
   ],
   "source": [
    "\n",
    "# specify a function that will construct the loss function\n",
    "get_loss_fn_name = cfg[\"loss\"][\"get_loss_fn_name\"]\n",
    "get_loss_fn = getattr(loss_constructors, get_loss_fn_name)\n",
    "print(f\"Loss function constructor: {get_loss_fn.__name__}\")\n",
    "\n",
    "# Construct the loss function \n",
    "loss_fn = get_loss_fn(cfg)\n",
    "print(f\"Loss function: {loss_fn.__name__}\")\n"
   ]
  },
  {
   "cell_type": "markdown",
   "metadata": {
    "id": "ikAZguKwiJLR"
   },
   "source": [
    "### Step 3: construct the accuracy metrics for the training run.\n",
    "\n",
    "While the neural network model uses only one loss function in training, you can specify more than one accuracy metric to track. You should always specify at least one accuracy measure to track. \n",
    "\n",
    "As with the loss function, the user must specify the constructor functions that will create the desired accuracy functions. "
   ]
  },
  {
   "cell_type": "code",
   "execution_count": 9,
   "metadata": {
    "id": "omzih1wjiJLS",
    "outputId": "a259d6bb-3c86-446b-f9bd-12d5be26fff3"
   },
   "outputs": [
    {
     "name": "stdout",
     "output_type": "stream",
     "text": [
      "Metric constructor function: get_sparse_categorical_accuracy_fn\n",
      "Accuracy metrics: ['sparse_categorical_accuracy']\n"
     ]
    }
   ],
   "source": [
    "the_metrics = []\n",
    "if cfg[\"metrics\"][\"use_metrics\"]:\n",
    "\n",
    "    get_metrics_fn_names = cfg[\"metrics\"][\"get_metrics_fn_names\"]\n",
    "    get_metrics_fn_parms = cfg[\"metrics\"][\"metrics_fn_parms\"]\n",
    "    \n",
    "    for get_mf_name, mf_parms in zip(get_metrics_fn_names, get_metrics_fn_parms):\n",
    "        get_metric_fn = getattr(metric_constructors, get_mf_name)\n",
    "        print (f\"Metric constructor function: {get_metric_fn.__name__}\")\n",
    "        metric_fn = get_metric_fn(mf_parms)\n",
    "        the_metrics.append(metric_fn)\n",
    "\n",
    "# Print the list of accuracy metrics\n",
    "print(f\"Accuracy metrics: {[fn.name for fn in the_metrics]}\")"
   ]
  },
  {
   "cell_type": "markdown",
   "metadata": {
    "id": "_hfflDIuiJLS"
   },
   "source": [
    "### Step 4: construct the optimizer for the training run\n",
    "\n",
    "Model training proceeds by making incremental adjustments to the model parameters that attempt to minimize (or optimize) the value of the user's chosen loss function. The choice of size and direction for those incremental adjustments is made by an optimization algorithm. \n",
    " \n",
    "The user must specify the construction function that will construct the optimizer algorithm. In this example, the configuration file also contains a parameter, the 'learning_rate', which is used in the construction of the optimizer. "
   ]
  },
  {
   "cell_type": "code",
   "execution_count": 10,
   "metadata": {
    "id": "Go-aKe30iJLS",
    "outputId": "962565c7-de63-400d-dba7-00a0c68e3f2d"
   },
   "outputs": [
    {
     "name": "stdout",
     "output_type": "stream",
     "text": [
      "Optimizer constructor: get_adam_optimizer\n",
      "<keras.optimizers.optimizer_v2.adam.Adam object at 0x7f8b291065d0>\n",
      "0.0003000000142492354\n"
     ]
    }
   ],
   "source": [
    "#### construct optimizer ####\n",
    "\n",
    "get_optimizer_fn_name = cfg[\"optimizer\"][\"get_optimizer_fn_name\"]\n",
    "get_optimizer_fn = getattr(optimizer_constructors, get_optimizer_fn_name)\n",
    "print (f\"Optimizer constructor: {get_optimizer_fn.__name__}\")\n",
    "\n",
    "\n",
    "optimizer = get_optimizer_fn(cfg)\n",
    "print(optimizer)\n",
    "print(float(optimizer.learning_rate))"
   ]
  },
  {
   "cell_type": "markdown",
   "metadata": {
    "id": "smJLJ_9_iJLT"
   },
   "source": [
    "### Step 5: Construct the model.\n",
    "\n",
    "The code below optionally constructs a new model, or uses a saved model from a previous training run. \n",
    "\n",
    "##### use a saved model \n",
    "\n",
    "If a saved model is used, the model is loaded from a location in the configuration file. Note that all directories in the configuration file are given relative to the RAMP_HOME environment variable, which must be defined in every environment that runs ramp code. \n",
    "\n",
    "If you set *save_optimizer_state* to True in the configuration file, ramp training will proceed using the configuration that was used to train the saved model. This will cause the above specification of loss function, accuracy metrics, and optimizer to be bypassed."
   ]
  },
  {
   "cell_type": "code",
   "execution_count": 11,
   "metadata": {
    "id": "u8ZF2enpiJLT"
   },
   "outputs": [
    {
     "name": "stdout",
     "output_type": "stream",
     "text": [
      "Model: importing saved model /content/drive/MyDrive/Omdena/RAMP_HOME/ramp-code/ramp/checkpoint.tf\n"
     ]
    }
   ],
   "source": [
    "the_model = None\n",
    "\n",
    "if cfg[\"saved_model\"][\"use_saved_model\"]:\n",
    "    \n",
    "    # load (construct) the model\n",
    "    model_path = Path(RAMP_HOME) / cfg[\"saved_model\"][\"saved_model_path\"]\n",
    "    print(f\"Model: importing saved model {str(model_path)}\")\n",
    "    the_model = tf.keras.models.load_model(model_path)\n",
    "    assert the_model is not None, f\"the saved model was not constructed: {model_path}\"\n",
    "\n",
    "    if not cfg[\"saved_model\"][\"save_optimizer_state\"]:\n",
    "        # If you don't want to save the original state of training, recompile the model.\n",
    "        the_model.compile(optimizer = optimizer, \n",
    "            loss=loss_fn,\n",
    "            metrics = [the_metrics])\n",
    "        \n",
    "        #the_model.compile(optimizer = optimizer, \n",
    "        #    loss=loss_fn,\n",
    "        #    metrics = [get_iou_coef_fn])"
   ]
  },
  {
   "cell_type": "markdown",
   "metadata": {
    "id": "ix60DN7qiJLU"
   },
   "source": [
    "##### construct a new model\n",
    "\n",
    "If a new model is created, the user specifies the constructor for the model. The code below constructs the model, and compiles it (i.e., sets an optimizer, loss function, and metrics)."
   ]
  },
  {
   "cell_type": "code",
   "execution_count": 12,
   "metadata": {
    "id": "oxHZdbZriJLU",
    "outputId": "aa1c78a0-15fa-4b7a-959b-65000cce201b"
   },
   "outputs": [
    {
     "name": "stdout",
     "output_type": "stream",
     "text": [
      "<keras.engine.functional.Functional object at 0x7f8b2f879050>\n"
     ]
    }
   ],
   "source": [
    "if not cfg[\"saved_model\"][\"use_saved_model\"]:\n",
    "    get_model_fn_name = cfg[\"model\"][\"get_model_fn_name\"]\n",
    "    get_model_fn = getattr(model_constructors, get_model_fn_name)\n",
    "    print(f\"Model constructor: {get_model_fn.__name__}\")\n",
    "    the_model = get_model_fn(cfg)\n",
    "\n",
    "    assert the_model is not None, f\"the model was not constructed: {model_path}\"\n",
    "    the_model.compile(optimizer = optimizer, \n",
    "        loss=loss_fn,\n",
    "        metrics = the_metrics)\n",
    "    \n",
    "  \n",
    "\n",
    "print(the_model)"
   ]
  },
  {
   "cell_type": "markdown",
   "metadata": {
    "id": "M_syWdt8iJLV"
   },
   "source": [
    "## Steps 6-10: Prepare the training data.\n",
    "\n",
    "#### Step 6: Specify directories to use for training and validation data. \n",
    "\n",
    "The training process uses a training data set, from which it learns the model, and a validation data set, which is used to track how well the trained model performs on data it hasn't been trained with. Both are critical. \n",
    "\n",
    "Each data set contains sample image chips and matching truth datasets, stored in geojson files. The base filenames of each matching image and polygon file must match uniquely, e.g., '130bfe-210.tif' and '130bfe-210.geojson'. \n",
    "\n",
    "The paths to these datasets are defined in the configuration file, relative to the RAMP_HOME environment variable. "
   ]
  },
  {
   "cell_type": "code",
   "execution_count": 13,
   "metadata": {
    "id": "IUMvmZKMiJLV",
    "outputId": "1ac250d0-5023-4936-a49e-2e29bc19510f"
   },
   "outputs": [
    {
     "data": {
      "text/plain": [
       "{'train_img_dir': 'ramp-data/TRAIN/HOTOSM/2/chips',\n",
       " 'train_mask_dir': 'ramp-data/TRAIN/HOTOSM/2/binarymasks',\n",
       " 'val_img_dir': 'ramp-data/TRAIN/HOTOSM/2/val-chips',\n",
       " 'val_mask_dir': 'ramp-data/TRAIN/HOTOSM/2/val-binarymasks'}"
      ]
     },
     "execution_count": 13,
     "metadata": {},
     "output_type": "execute_result"
    }
   ],
   "source": [
    "cfg[\"datasets\"]"
   ]
  },
  {
   "cell_type": "code",
   "execution_count": 14,
   "metadata": {
    "id": "TRXpPcCSiJLV"
   },
   "outputs": [],
   "source": [
    "#### define data directories ####\n",
    "train_img_dir = Path(RAMP_HOME) / cfg[\"datasets\"][\"train_img_dir\"]\n",
    "train_mask_dir = Path(RAMP_HOME) / cfg[\"datasets\"][\"train_mask_dir\"]\n",
    "val_img_dir = Path(RAMP_HOME) / cfg[\"datasets\"][\"val_img_dir\"]\n",
    "val_mask_dir = Path(RAMP_HOME) / cfg[\"datasets\"][\"val_mask_dir\"]"
   ]
  },
  {
   "cell_type": "code",
   "execution_count": 15,
   "metadata": {
    "id": "HKk1tIk-iJLW",
    "outputId": "19c063b1-f4fb-4a01-d0d2-5acced71a078"
   },
   "outputs": [
    {
     "name": "stdout",
     "output_type": "stream",
     "text": [
      "OAM-1238424-1046544-21.tif\n",
      "OAM-1238424-1046545-21.tif\n",
      "OAM-1238424-1046546-21.tif\n",
      "OAM-1238424-1046547-21.tif\n",
      "OAM-1238425-1046544-21.tif\n"
     ]
    }
   ],
   "source": [
    "!ls {train_img_dir} | head -5"
   ]
  },
  {
   "cell_type": "code",
   "execution_count": 16,
   "metadata": {
    "id": "BT1CmLm2iJLW",
    "outputId": "effa8af6-faa8-4fea-909d-de979dba41ed"
   },
   "outputs": [
    {
     "name": "stdout",
     "output_type": "stream",
     "text": [
      "OAM-1238424-1046544-21.mask.tif\n",
      "OAM-1238424-1046545-21.mask.tif\n",
      "OAM-1238424-1046546-21.mask.tif\n",
      "OAM-1238424-1046547-21.mask.tif\n",
      "OAM-1238425-1046544-21.mask.tif\n"
     ]
    }
   ],
   "source": [
    "!ls {train_mask_dir} | head -5"
   ]
  },
  {
   "cell_type": "markdown",
   "metadata": {
    "id": "PSwYQ1kXiJLW"
   },
   "source": [
    "### Step 7: set up the augmentations (i.e., image transformations) that will be applied to the training data.\n",
    "\n",
    "The *get_augmentation_fn()* constructs a sequence of image transformation functions that will be applied to the training data only (not the validation data). This increases the variability in the data that the model sees during training.\n",
    "\n",
    "Note that each image transformation function in the list below requires its internal parameters to be set during construction. "
   ]
  },
  {
   "cell_type": "code",
   "execution_count": 17,
   "metadata": {
    "id": "KV6RluHCiJLX",
    "outputId": "41ac032a-f758-44e3-9508-252ea303b74e"
   },
   "outputs": [
    {
     "name": "stdout",
     "output_type": "stream",
     "text": [
      "Compose([\n",
      "  Rotate(always_apply=False, p=0.7, limit=(-90, 90), interpolation=0, border_mode=0, value=[0.0, 0.0, 0.0], mask_value=0),\n",
      "  ColorJitter(always_apply=False, p=0.7, brightness=[0.8, 1.2], contrast=[0.8, 1.2], saturation=[0.8, 1.2], hue=[-0.2, 0.2]),\n",
      "], p=1.0, bbox_params=None, keypoint_params=None, additional_targets={})\n"
     ]
    }
   ],
   "source": [
    "#### get the augmentation transform ####\n",
    "#aug = None\n",
    "if cfg[\"augmentation\"][\"use_aug\"]:\n",
    "    aug = get_augmentation_fn(cfg)\n",
    "    print(aug)"
   ]
  },
  {
   "cell_type": "markdown",
   "metadata": {
    "id": "bjYOKdf_iJLX"
   },
   "source": [
    "### Step 8: Set runtime parameters, and add them to the configuration data.\n",
    "\n",
    "The number of training iterations per epoch depends on the total quantity of training data chips, and on the batch size. \n",
    "\n",
    "The data generator (which 'feeds' data to the model during training) must know the sizes of its input and output images. "
   ]
  },
  {
   "cell_type": "code",
   "execution_count": 18,
   "metadata": {
    "id": "PLMq2MejiJLY"
   },
   "outputs": [],
   "source": [
    "batch_size = cfg[\"batch_size\"]\n",
    "input_img_shape = cfg[\"input_img_shape\"]\n",
    "output_img_shape = cfg[\"output_img_shape\"]\n",
    "\n",
    "n_training = get_num_files(train_img_dir, \"*.tif\")\n",
    "n_val = get_num_files(val_img_dir, \"*.tif\")\n",
    "steps_per_epoch = n_training // batch_size\n",
    "validation_steps = n_val // batch_size\n",
    "\n",
    "# add these back to the config \n",
    "# in case they are needed by callbacks\n",
    "cfg[\"runtime\"] = {}\n",
    "cfg[\"runtime\"][\"n_training\"] = n_training\n",
    "cfg[\"runtime\"][\"n_val\"] = n_val\n",
    "cfg[\"runtime\"][\"steps_per_epoch\"] = steps_per_epoch\n",
    "cfg[\"runtime\"][\"validation_steps\"] = validation_steps"
   ]
  },
  {
   "cell_type": "markdown",
   "metadata": {
    "id": "5EhVs1K5iJLY"
   },
   "source": [
    "### Step 10: set up training and validation data 'feeds'.\n",
    "\n",
    "Notice the call to construct training batches is different when augmentation is used."
   ]
  },
  {
   "cell_type": "code",
   "execution_count": 19,
   "metadata": {
    "id": "k6MP71VHiJLY"
   },
   "outputs": [],
   "source": [
    "train_batches = None\n",
    "\n",
    "if aug is not None:\n",
    "    train_batches = training_batches_from_gtiff_dirs(train_img_dir, \n",
    "                                                train_mask_dir, \n",
    "                                                batch_size, \n",
    "                                                input_img_shape, \n",
    "                                                output_img_shape, \n",
    "                                                transforms = aug)\n",
    "else:\n",
    "    train_batches = training_batches_from_gtiff_dirs(train_img_dir, \n",
    "                                                train_mask_dir, \n",
    "                                                batch_size, \n",
    "                                                input_img_shape, \n",
    "                                                output_img_shape)\n",
    "\n",
    "assert train_batches is not None, \"training batches were not constructed\"\n",
    "\n"
   ]
  },
  {
   "cell_type": "code",
   "execution_count": 20,
   "metadata": {
    "id": "tX8Rt7h9iJLZ"
   },
   "outputs": [],
   "source": [
    "val_batches = test_batches_from_gtiff_dirs(val_img_dir, \n",
    "                                                val_mask_dir, \n",
    "                                                batch_size, \n",
    "                                                input_img_shape, \n",
    "                                                output_img_shape)\n",
    "\n",
    "assert val_batches is not None, \"validation batches were not constructed\""
   ]
  },
  {
   "cell_type": "markdown",
   "metadata": {
    "id": "Rfn67xoFiJLZ"
   },
   "source": [
    "## Steps 11-13: Construct callbacks.\n",
    "\n",
    "A list of callback functions will be passed to the training process. \n",
    "\n",
    "### Step 11: Define all experiment logging and model checkpoint callbacks.\n",
    "\n",
    "These callbacks are essential and used in every training run (unless it is a throwaway).\n",
    "\n",
    "#todo: add instructions for starting tensorboard."
   ]
  },
  {
   "cell_type": "code",
   "execution_count": 21,
   "metadata": {
    "id": "MfbcNV0NiJLZ",
    "outputId": "eda24c58-7617-4410-fee8-8ef7a9bbe298"
   },
   "outputs": [
    {
     "name": "stdout",
     "output_type": "stream",
     "text": [
      "model checkpoint callback constructor:get_model_checkpt_callback_fn\n",
      "tensorboard callback constructor: get_tb_callback_fn\n",
      "prediction logging callback constructor: get_pred_logging_callback_fn\n"
     ]
    }
   ],
   "source": [
    "callbacks_list = []\n",
    "\n",
    "if not discard_experiment:\n",
    "\n",
    "    # get model checkpoint callback\n",
    "    if cfg[\"model_checkpts\"][\"use_model_checkpts\"]:\n",
    "        get_model_checkpt_callback_fn_name = cfg[\"model_checkpts\"][\"get_model_checkpt_callback_fn_name\"]\n",
    "        get_model_checkpt_callback_fn = getattr(callback_constructors, get_model_checkpt_callback_fn_name)\n",
    "        callbacks_list.append(get_model_checkpt_callback_fn(cfg))\n",
    "        print(f\"model checkpoint callback constructor:{get_model_checkpt_callback_fn.__name__}\")\n",
    "\n",
    "    # get tensorboard callback\n",
    "    if cfg[\"tensorboard\"][\"use_tb\"]:\n",
    "        get_tb_callback_fn_name = cfg[\"tensorboard\"][\"get_tb_callback_fn_name\"]\n",
    "        get_tb_callback_fn = getattr(callback_constructors, get_tb_callback_fn_name)\n",
    "        callbacks_list.append(get_tb_callback_fn(cfg))\n",
    "        print(f\"tensorboard callback constructor: {get_tb_callback_fn.__name__}\")\n",
    "\n",
    "    # get tensorboard model prediction logging callback \n",
    "    if cfg[\"prediction_logging\"][\"use_prediction_logging\"]:\n",
    "        assert cfg[\"tensorboard\"][\"use_tb\"], 'Tensorboard logging must be turned on to enable prediction logging'\n",
    "        get_prediction_logging_fn_name = cfg[\"prediction_logging\"][\"get_prediction_logging_fn_name\"]\n",
    "        get_prediction_logging_fn = getattr(callback_constructors, get_prediction_logging_fn_name)\n",
    "        callbacks_list.append(get_prediction_logging_fn(the_model, cfg))\n",
    "        print(f\"prediction logging callback constructor: {get_prediction_logging_fn.__name__}\")\n",
    "\n",
    "# free up RAM\n",
    "keras.backend.clear_session()\n"
   ]
  },
  {
   "cell_type": "markdown",
   "metadata": {
    "id": "TQ-71rNGiJLa"
   },
   "source": [
    "### Step 12: Define the early stopping callback if you're using it.\n",
    "\n",
    "You often will be. "
   ]
  },
  {
   "cell_type": "code",
   "execution_count": 22,
   "metadata": {
    "id": "zWmJlpV9iJLa"
   },
   "outputs": [
    {
     "name": "stdout",
     "output_type": "stream",
     "text": [
      "Using early stopping\n"
     ]
    }
   ],
   "source": [
    "if cfg[\"early_stopping\"][\"use_early_stopping\"]:\n",
    "    print(\"Using early stopping\")\n",
    "    callbacks_list.append(callback_constructors.get_early_stopping_callback_fn(cfg))"
   ]
  },
  {
   "cell_type": "markdown",
   "metadata": {
    "id": "GlgEKRv1iJLb"
   },
   "source": [
    "### Step 13: Define the Cyclic Learning Rate Scheduler callback if you're using it. \n",
    "\n",
    "You probably won't need to do this, but it's included here for completeness. \n",
    "\n",
    "You'll get an error if you try to use a cyclic learning rate scheduler together with early stopping."
   ]
  },
  {
   "cell_type": "code",
   "execution_count": 23,
   "metadata": {
    "id": "cLLVf0R1iJLb"
   },
   "outputs": [],
   "source": [
    "    # get cyclic learning scheduler callback\n",
    "    if cfg[\"cyclic_learning_scheduler\"][\"use_clr\"]:\n",
    "        assert not cfg[\"early_stopping\"][\"use_early_stopping\"], \"cannot use early_stopping with cycling_learning_scheduler\"\n",
    "        get_clr_callback_fn_name = cfg[\"cyclic_learning_scheduler\"][\"get_clr_callback_fn_name\"]\n",
    "        get_clr_callback_fn = getattr(callback_constructors, get_clr_callback_fn_name)\n",
    "        callbacks_list.append(get_clr_callback_fn(cfg))\n",
    "        print(f\"CLR callback constructor: {get_clr_callback_fn.__name__}\")"
   ]
  },
  {
   "cell_type": "markdown",
   "metadata": {
    "id": "UhYCJxpGiJLb"
   },
   "source": [
    "## Step 14: Train the model.\n",
    "\n",
    "The 'history' return value is a data structure containing training-time information, such as the values of loss and accuracy metrics after every epoch. Most of what it contains is viewable in the Tensorboard application.\n",
    "\n",
    "The user must specify the number of epochs to run. If early stopping is used, the full number of epochs may not be run. "
   ]
  },
  {
   "cell_type": "code",
   "execution_count": 24,
   "metadata": {
    "id": "_9uTj63GiJLb",
    "outputId": "f072b7d4-9ffa-40f5-ba3a-0809124d3585"
   },
   "outputs": [
    {
     "name": "stdout",
     "output_type": "stream",
     "text": [
      "10\n"
     ]
    }
   ],
   "source": [
    "n_epochs = cfg[\"num_epochs\"]\n",
    "print(n_epochs)"
   ]
  },
  {
   "cell_type": "code",
   "execution_count": 25,
   "metadata": {
    "id": "XqbP0PpJiJLc",
    "outputId": "e886c901-1154-41cb-d25c-d58777564623"
   },
   "outputs": [
    {
     "name": "stdout",
     "output_type": "stream",
     "text": [
      "Epoch 1/10\n",
      "6/6 [==============================] - ETA: 0s - loss: 1.2024 - sparse_categorical_accuracy: 0.8121"
     ]
    },
    {
     "name": "stderr",
     "output_type": "stream",
     "text": [
      "WARNING:absl:Found untraced functions such as _jit_compiled_convolution_op, _jit_compiled_convolution_op, _jit_compiled_convolution_op, _jit_compiled_convolution_op, _jit_compiled_convolution_op while saving (showing 5 of 92). These functions will not be directly callable after loading.\n"
     ]
    },
    {
     "name": "stdout",
     "output_type": "stream",
     "text": [
      "1/1 [==============================] - 1s 1s/step\n",
      "6/6 [==============================] - 200s 13s/step - loss: 1.2024 - sparse_categorical_accuracy: 0.8121 - val_loss: 0.6108 - val_sparse_categorical_accuracy: 0.8667\n",
      "Epoch 2/10\n",
      "6/6 [==============================] - ETA: 0s - loss: 0.5144 - sparse_categorical_accuracy: 0.8576"
     ]
    },
    {
     "name": "stderr",
     "output_type": "stream",
     "text": [
      "WARNING:absl:Found untraced functions such as _jit_compiled_convolution_op, _jit_compiled_convolution_op, _jit_compiled_convolution_op, _jit_compiled_convolution_op, _jit_compiled_convolution_op while saving (showing 5 of 92). These functions will not be directly callable after loading.\n"
     ]
    },
    {
     "name": "stdout",
     "output_type": "stream",
     "text": [
      "1/1 [==============================] - 0s 49ms/step\n",
      "6/6 [==============================] - 43s 8s/step - loss: 0.5144 - sparse_categorical_accuracy: 0.8576 - val_loss: 0.5347 - val_sparse_categorical_accuracy: 0.8830\n",
      "Epoch 3/10\n",
      "6/6 [==============================] - ETA: 0s - loss: 0.3935 - sparse_categorical_accuracy: 0.8745"
     ]
    },
    {
     "name": "stderr",
     "output_type": "stream",
     "text": [
      "WARNING:absl:Found untraced functions such as _jit_compiled_convolution_op, _jit_compiled_convolution_op, _jit_compiled_convolution_op, _jit_compiled_convolution_op, _jit_compiled_convolution_op while saving (showing 5 of 92). These functions will not be directly callable after loading.\n"
     ]
    },
    {
     "name": "stdout",
     "output_type": "stream",
     "text": [
      "1/1 [==============================] - 0s 39ms/step\n",
      "6/6 [==============================] - 41s 8s/step - loss: 0.3935 - sparse_categorical_accuracy: 0.8745 - val_loss: 0.4274 - val_sparse_categorical_accuracy: 0.8998\n",
      "Epoch 4/10\n",
      "6/6 [==============================] - ETA: 0s - loss: 0.3415 - sparse_categorical_accuracy: 0.8864"
     ]
    },
    {
     "name": "stderr",
     "output_type": "stream",
     "text": [
      "WARNING:absl:Found untraced functions such as _jit_compiled_convolution_op, _jit_compiled_convolution_op, _jit_compiled_convolution_op, _jit_compiled_convolution_op, _jit_compiled_convolution_op while saving (showing 5 of 92). These functions will not be directly callable after loading.\n"
     ]
    },
    {
     "name": "stdout",
     "output_type": "stream",
     "text": [
      "1/1 [==============================] - 0s 37ms/step\n",
      "6/6 [==============================] - 41s 8s/step - loss: 0.3415 - sparse_categorical_accuracy: 0.8864 - val_loss: 0.3551 - val_sparse_categorical_accuracy: 0.8986\n",
      "Epoch 5/10\n",
      "6/6 [==============================] - ETA: 0s - loss: 0.2537 - sparse_categorical_accuracy: 0.9129"
     ]
    },
    {
     "name": "stderr",
     "output_type": "stream",
     "text": [
      "WARNING:absl:Found untraced functions such as _jit_compiled_convolution_op, _jit_compiled_convolution_op, _jit_compiled_convolution_op, _jit_compiled_convolution_op, _jit_compiled_convolution_op while saving (showing 5 of 92). These functions will not be directly callable after loading.\n"
     ]
    },
    {
     "name": "stdout",
     "output_type": "stream",
     "text": [
      "1/1 [==============================] - 0s 77ms/step\n",
      "6/6 [==============================] - 45s 9s/step - loss: 0.2537 - sparse_categorical_accuracy: 0.9129 - val_loss: 0.2851 - val_sparse_categorical_accuracy: 0.9065\n",
      "Epoch 6/10\n",
      "6/6 [==============================] - ETA: 0s - loss: 0.2772 - sparse_categorical_accuracy: 0.8838"
     ]
    },
    {
     "name": "stderr",
     "output_type": "stream",
     "text": [
      "WARNING:absl:Found untraced functions such as _jit_compiled_convolution_op, _jit_compiled_convolution_op, _jit_compiled_convolution_op, _jit_compiled_convolution_op, _jit_compiled_convolution_op while saving (showing 5 of 92). These functions will not be directly callable after loading.\n"
     ]
    },
    {
     "name": "stdout",
     "output_type": "stream",
     "text": [
      "1/1 [==============================] - 0s 41ms/step\n",
      "6/6 [==============================] - 40s 8s/step - loss: 0.2772 - sparse_categorical_accuracy: 0.8838 - val_loss: 0.2697 - val_sparse_categorical_accuracy: 0.9091\n",
      "Epoch 7/10\n",
      "6/6 [==============================] - ETA: 0s - loss: 0.2119 - sparse_categorical_accuracy: 0.9160"
     ]
    },
    {
     "name": "stderr",
     "output_type": "stream",
     "text": [
      "WARNING:absl:Found untraced functions such as _jit_compiled_convolution_op, _jit_compiled_convolution_op, _jit_compiled_convolution_op, _jit_compiled_convolution_op, _jit_compiled_convolution_op while saving (showing 5 of 92). These functions will not be directly callable after loading.\n"
     ]
    },
    {
     "name": "stdout",
     "output_type": "stream",
     "text": [
      "1/1 [==============================] - 0s 35ms/step\n",
      "6/6 [==============================] - 39s 8s/step - loss: 0.2119 - sparse_categorical_accuracy: 0.9160 - val_loss: 0.2344 - val_sparse_categorical_accuracy: 0.9205\n",
      "Epoch 8/10\n",
      "6/6 [==============================] - ETA: 0s - loss: 0.2055 - sparse_categorical_accuracy: 0.9207"
     ]
    },
    {
     "name": "stderr",
     "output_type": "stream",
     "text": [
      "WARNING:absl:Found untraced functions such as _jit_compiled_convolution_op, _jit_compiled_convolution_op, _jit_compiled_convolution_op, _jit_compiled_convolution_op, _jit_compiled_convolution_op while saving (showing 5 of 92). These functions will not be directly callable after loading.\n"
     ]
    },
    {
     "name": "stdout",
     "output_type": "stream",
     "text": [
      "1/1 [==============================] - 0s 38ms/step\n",
      "6/6 [==============================] - 40s 8s/step - loss: 0.2055 - sparse_categorical_accuracy: 0.9207 - val_loss: 0.2003 - val_sparse_categorical_accuracy: 0.9252\n",
      "Epoch 9/10\n",
      "6/6 [==============================] - ETA: 0s - loss: 0.2262 - sparse_categorical_accuracy: 0.9191"
     ]
    },
    {
     "name": "stderr",
     "output_type": "stream",
     "text": [
      "WARNING:absl:Found untraced functions such as _jit_compiled_convolution_op, _jit_compiled_convolution_op, _jit_compiled_convolution_op, _jit_compiled_convolution_op, _jit_compiled_convolution_op while saving (showing 5 of 92). These functions will not be directly callable after loading.\n"
     ]
    },
    {
     "name": "stdout",
     "output_type": "stream",
     "text": [
      "1/1 [==============================] - 0s 35ms/step\n",
      "6/6 [==============================] - 42s 8s/step - loss: 0.2262 - sparse_categorical_accuracy: 0.9191 - val_loss: 0.2467 - val_sparse_categorical_accuracy: 0.9136\n",
      "Epoch 10/10\n",
      "6/6 [==============================] - ETA: 0s - loss: 0.1863 - sparse_categorical_accuracy: 0.9291"
     ]
    },
    {
     "name": "stderr",
     "output_type": "stream",
     "text": [
      "WARNING:absl:Found untraced functions such as _jit_compiled_convolution_op, _jit_compiled_convolution_op, _jit_compiled_convolution_op, _jit_compiled_convolution_op, _jit_compiled_convolution_op while saving (showing 5 of 92). These functions will not be directly callable after loading.\n"
     ]
    },
    {
     "name": "stdout",
     "output_type": "stream",
     "text": [
      "1/1 [==============================] - 0s 35ms/step\n",
      "6/6 [==============================] - 41s 8s/step - loss: 0.1863 - sparse_categorical_accuracy: 0.9291 - val_loss: 0.2303 - val_sparse_categorical_accuracy: 0.9191\n"
     ]
    }
   ],
   "source": [
    "start = perf_counter()\n",
    "history = the_model.fit(train_batches, \n",
    "        epochs=n_epochs, \n",
    "        steps_per_epoch=steps_per_epoch, \n",
    "        validation_data=val_batches, \n",
    "        validation_steps=validation_steps,\n",
    "        callbacks=callbacks_list)"
   ]
  },
  {
   "cell_type": "code",
   "execution_count": 26,
   "metadata": {},
   "outputs": [
    {
     "name": "stdout",
     "output_type": "stream",
     "text": [
      "Time taken to execute code : 572.8573304040001 seconds\n"
     ]
    }
   ],
   "source": [
    "end = perf_counter()\n",
    "print(f\"Time taken to execute code : {end-start} seconds\")"
   ]
  },
  {
   "cell_type": "code",
   "execution_count": 27,
   "metadata": {},
   "outputs": [
    {
     "data": {
      "image/png": "[encoded data removed]",
      "text/plain": [
       "<Figure size 432x288 with 1 Axes>"
      ]
     },
     "metadata": {
      "needs_background": "light"
     },
     "output_type": "display_data"
    },
    {
     "data": {
      "image/png": "[encoded data removed]",
      "text/plain": [
       "<Figure size 432x288 with 1 Axes>"
      ]
     },
     "metadata": {
      "needs_background": "light"
     },
     "output_type": "display_data"
    }
   ],
   "source": [
    "# plot the training and validation accuracy and loss at each epoch\n",
    "from matplotlib import pyplot as plt\n",
    "loss = history.history[\"loss\"]\n",
    "val_loss = history.history[\"val_loss\"]\n",
    "epochs = range(1, len(loss) + 1)\n",
    "plt.plot(epochs, loss, \"y\", label=\"Training loss\")\n",
    "plt.plot(epochs, val_loss, \"r\", label=\"Validation loss\")\n",
    "plt.title(\"Training and validation loss\")\n",
    "plt.xlabel(\"Epochs\")\n",
    "plt.ylabel(\"Loss\")\n",
    "plt.legend()\n",
    "plt.show()\n",
    "\n",
    "acc = history.history[\"sparse_categorical_accuracy\"]\n",
    "val_acc = history.history[\"val_sparse_categorical_accuracy\"]\n",
    "plt.plot(epochs, acc, \"y\", label=\"Training acc\")\n",
    "plt.plot(epochs, val_acc, \"r\", label=\"Validation sparse categorical acc\")\n",
    "plt.title(\"Training and validation sparse categorical accuracy\")\n",
    "plt.xlabel(\"Epochs\")\n",
    "plt.ylabel(\"Sparse Categorical Accuracy\")\n",
    "plt.legend()\n",
    "plt.show()"
   ]
  },
  {
   "cell_type": "markdown",
   "metadata": {
    "id": "CZUByj31iJLc"
   },
   "source": [
    "## Step 15: log experiment information to a central location.\n",
    "\n",
    "Ramp has a simple mechanism for storing experiment information to a central CSV file, the path to which is specified (like everything else) in the configuration file. Fields to be logged are specified in the 'logging' configuration block, under 'fields_to_log'. \n",
    "\n",
    "Fields to be logged should be uniquely named (or you might not get the records you wanted!)."
   ]
  },
  {
   "cell_type": "code",
   "execution_count": 28,
   "metadata": {
    "id": "q8DzxKx-iJLd",
    "outputId": "07d86dee-4f0c-429a-88c4-f92b60b6be4e"
   },
   "outputs": [
    {
     "name": "stdout",
     "output_type": "stream",
     "text": [
      "logging experiment to: /content/drive/MyDrive/Omdena/RAMP_HOME/ramp-data/TRAIN/HOTOSM/HOTOSM-experiments.csv\n"
     ]
    }
   ],
   "source": [
    "if not discard_experiment and cfg[\"logging\"][\"log_experiment\"]:\n",
    "    exp_log_path = str(Path(RAMP_HOME)/cfg[\"logging\"][\"experiment_log_path\"])\n",
    "    print(f\"logging experiment to: {exp_log_path}\")\n",
    "\n",
    "    # log fields chosen in the configuration file\n",
    "    # the fields must be uniquely named\n",
    "    fields_to_log = cfg[\"logging\"][\"fields_to_log\"]\n",
    "    exp_log = dict()\n",
    "    for field_key in fields_to_log:\n",
    "        field_val = lf.locate_field(cfg, field_key)\n",
    "        if not isinstance(field_val, dict):\n",
    "            exp_log[field_key] = field_val\n",
    "    the_argmax, best_val_acc = get_best_model_value_and_epoch(history)\n",
    "    exp_log[lf.BEST_MODEL_VALUE] = best_val_acc\n",
    "    exp_log[lf.BEST_MODEL_EPOCH] = the_argmax\n",
    "    log_experiment_to_file(exp_log, exp_log_path)"
   ]
  },
  {
   "cell_type": "code",
   "execution_count": null,
   "metadata": {
    "id": "I6EGBC-oiJLd"
   },
   "outputs": [],
   "source": []
  }
 ],
 "metadata": {
  "colab": {
   "provenance": []
  },
  "kernelspec": {
   "display_name": "Python 3",
   "language": "python",
   "name": "python3"
  },
  "language_info": {
   "codemirror_mode": {
    "name": "ipython",
    "version": 3
   },
   "file_extension": ".py",
   "mimetype": "text/x-python",
   "name": "python",
   "nbconvert_exporter": "python",
   "pygments_lexer": "ipython3",
   "version": "3.7.15"
  },
  "vscode": {
   "interpreter": {
    "hash": "31f2aee4e71d21fbe5cf8b01ff0e069b9275f58929596ceb00d14d90e3e16cd6"
   }
  }
 },
 "nbformat": 4,
 "nbformat_minor": 4
}
